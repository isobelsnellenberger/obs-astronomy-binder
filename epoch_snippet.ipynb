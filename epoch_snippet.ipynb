{
 "cells": [
  {
   "cell_type": "markdown",
   "metadata": {},
   "source": [
    "## This notebook will not run by itself\n",
    "\n",
    "Please copy the contents of the cell below into the notebook \"Observation Planning 2\" and run it there"
   ]
  },
  {
   "cell_type": "code",
   "execution_count": null,
   "metadata": {},
   "outputs": [],
   "source": [
    "# You will need to change this value\n",
    "n_start = 100\n",
    "\n",
    "# Make this an astropy time\n",
    "t_epoch =   Time(  , scale=, format='jd')  \n",
    "\n",
    "# Fill in period below \n",
    "period =     * u.day\n",
    "\n",
    "n_end = n_start + 60\n",
    "\n",
    "future_events = t_epoch + period * np.arange(n_start, n_end)"
   ]
  },
  {
   "cell_type": "code",
   "execution_count": null,
   "metadata": {},
   "outputs": [],
   "source": [
    "for event, n in zip(future_events, np.arange(n_start, n_end)):\n",
    "    print(n, event)"
   ]
  }
 ],
 "metadata": {
  "kernelspec": {
   "display_name": "Python 3",
   "language": "python",
   "name": "python3"
  },
  "language_info": {
   "codemirror_mode": {
    "name": "ipython",
    "version": 3
   },
   "file_extension": ".py",
   "mimetype": "text/x-python",
   "name": "python",
   "nbconvert_exporter": "python",
   "pygments_lexer": "ipython3",
   "version": "3.6.5"
  }
 },
 "nbformat": 4,
 "nbformat_minor": 2
}
