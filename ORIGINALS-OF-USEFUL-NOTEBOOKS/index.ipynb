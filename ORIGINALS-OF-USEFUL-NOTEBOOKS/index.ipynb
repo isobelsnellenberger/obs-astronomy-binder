{
 "cells": [
  {
   "cell_type": "markdown",
   "metadata": {},
   "source": [
    "# Image reduction and photometry with python\n",
    "\n",
    "This set of notebooks was used (in modified form) with an undergraduate observational astro course in Fall 2018 at MSUM.\n",
    "\n",
    "Run through things in the order below. You should, in principle, be able to replace any step with another tool, as long as you can get the data from that tool into the format needed for the next step.\n",
    "\n",
    "The easiest place to do that is with image reduction -- the photometry code does not care how you reduced the data, it just needs to know what path to find the data at."
   ]
  },
  {
   "cell_type": "markdown",
   "metadata": {},
   "source": [
    "# -1. Installation\n",
    "\n",
    "The easiest way to get a working python environment going is to use the anaconda python distribution. \n",
    "\n",
    "1. Get miniconda for your platform here: https://conda.io/miniconda.html\n",
    "2. Install miniconda; pay attention to the settings about whether to make this the default python and make a choice appropriate for your situation. This will not replace system python on the Mac.\n",
    "3. Download the environment file for this repository: https://raw.githubusercontent.com/mwcraig/obs-astronomy-binder/master/environment.yml\n",
    "4. Open a terminal and create a new conda environment from this file: `conda create -f environment.yml`\n",
    "5. Once this process finishes (it may take a while) then follow the instructions at the end of the output for activating this environment. \n",
    "6. Once the environment is activated you should be ready to go (except in jupyterlab...please don't go there yet).\n",
    "\n",
    "### Aside: python environments\n",
    "\n",
    "A python environment is essentially a copy of your main python installation. Working in an environment allows you to try things out without running the risk of breaking something in your main python installation. If you do not want to use anaconda then you can try pipenv. I've heard good things about it but have not used it."
   ]
  },
  {
   "cell_type": "markdown",
   "metadata": {},
   "source": [
    "# 0. Copy this entire folder of notebook somewhere OUTSIDE the source tree\n",
    "\n",
    "That way you still have the unmodified originals."
   ]
  },
  {
   "cell_type": "markdown",
   "metadata": {},
   "source": [
    "## 1. Reduce your data\n",
    "\n",
    "We reduced data using the package [reducer](https://reducer.rtfd.io); please see that documentation for install instructions and a brief overview of usage."
   ]
  },
  {
   "cell_type": "markdown",
   "metadata": {},
   "source": [
    "## 2. Examine a reduced image to determine FWHM and aperture radius\n",
    "\n",
    "For the moment a fixed radius is used for the entire night.\n",
    "\n",
    "The notebook with the image viewer and code for generating seeing profiles is [viewer-seeing-profile.ipynb](viewer-seeing-profile.ipynb)\n",
    "\n",
    "Run the whole notebook, then see the very last cell for how to choose the image to view."
   ]
  },
  {
   "cell_type": "markdown",
   "metadata": {},
   "source": [
    "## 3. Find all sources in the image and perform aperture photometry on a directory of images\n",
    "\n",
    "Unfortunately, both of these are currently in the same notebook. If there is interest I can split these, and allow for an AstroImageJ radec list as the input for source locations.\n",
    "\n",
    "This notebook is [photometry_directory.ipynb](photometry_directory). Note that sources are detected in *only one image* and that list is used as the list of locations at which to do photometry, like an radec list in AstroImageJ."
   ]
  },
  {
   "cell_type": "markdown",
   "metadata": {},
   "source": [
    "## 4. Transform instrumental magnitudes to catalog using APASS stars\n",
    "\n",
    "This step seems to work well some nights and not others. The idea is to transform image-by-image to the standard magnitudes using APASS stars in the field of view *without* doing differential photometry.\n",
    "\n",
    "On some nights this works pretty well -- well enough to detect transits in magnitude 11 stars that are 0.01 mag deep.\n",
    "\n",
    "Other nights it seems to fail miserably.\n",
    "\n",
    "I suspect I'm rediscovering the fact that some nights are closer to photometric than others.\n",
    "\n",
    "The notebook for this is [transform_to_catalog_for_class.ipynb](transform_to_catalog_for_class.ipynb)"
   ]
  },
  {
   "cell_type": "markdown",
   "metadata": {},
   "source": [
    "# When you encounter problems: \n",
    "\n",
    "Please let me know -- either email me or open an issue in this repository: https://github.com/mwcraig/obs-astronomy-binder"
   ]
  }
 ],
 "metadata": {
  "kernelspec": {
   "display_name": "Python 3",
   "language": "python",
   "name": "python3"
  },
  "language_info": {
   "codemirror_mode": {
    "name": "ipython",
    "version": 3
   },
   "file_extension": ".py",
   "mimetype": "text/x-python",
   "name": "python",
   "nbconvert_exporter": "python",
   "pygments_lexer": "ipython3",
   "version": "3.6.4"
  }
 },
 "nbformat": 4,
 "nbformat_minor": 2
}
