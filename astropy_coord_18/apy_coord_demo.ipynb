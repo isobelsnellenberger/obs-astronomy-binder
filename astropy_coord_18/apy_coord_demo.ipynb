{
 "cells": [
  {
   "cell_type": "code",
   "execution_count": null,
   "metadata": {},
   "outputs": [],
   "source": [
    "!wget http://physics.mnstate.edu/craig/2018-11-06/kelt-16-S001-R001-C100-r.fit\n",
    "!wget http://physics.mnstate.edu/craig/2018-11-06/kelt-16-b-S001-R001-C130-r.fit\n",
    "!wget http://physics.mnstate.edu/craig/2018-11-06/kelt-16-b-S001-R001-C125-r.fit"
   ]
  },
  {
   "cell_type": "markdown",
   "metadata": {},
   "source": [
    "**astrowidgets**: A very much work-in-progress interactive in-notebook/lab image viewer: \n",
    "\n",
    "+ Documentation: https://astrowidgets.readthedocs.io\n",
    "+ Code: https://github.com/astropy/astrowidgets\n",
    "+ Target API: https://astrowidgets.readthedocs.io/en/latest/api/astrowidgets.ImageWidget.html#astrowidgets.ImageWidget\n",
    "    + Original API doc: https://gist.github.com/eteq/bb625148969db51b2b03b71e92ca5231\n",
    "\n",
    "A couple examples using the image viewer:\n",
    "1. [viewer-seeing-profile.ipynb](viewer-seeing-profile.ipynb)\n",
    "1. [photometry_directory.ipynb](photometry_directory.ipynb)\n",
    "\n",
    "\n",
    "Easiest way to set up a small JupyterHub server: The Littlest JupyterHub https://the-littlest-jupyterhub.readthedocs.io/en/latest/"
   ]
  }
 ],
 "metadata": {
  "kernelspec": {
   "display_name": "Python 3",
   "language": "python",
   "name": "python3"
  },
  "language_info": {
   "codemirror_mode": {
    "name": "ipython",
    "version": 3
   },
   "file_extension": ".py",
   "mimetype": "text/x-python",
   "name": "python",
   "nbconvert_exporter": "python",
   "pygments_lexer": "ipython3",
   "version": "3.6.4"
  }
 },
 "nbformat": 4,
 "nbformat_minor": 2
}
