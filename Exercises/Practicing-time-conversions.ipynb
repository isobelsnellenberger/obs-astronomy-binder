{
 "cells": [
  {
   "cell_type": "markdown",
   "metadata": {},
   "source": [
    "# Time conversion basics using astropy\n",
    "\n",
    "## Background materials:\n",
    "\n",
    "1. Notebook illustrating use of astropy for time scale and format conversion: [Times in astronomy](../01.00-Time-scales-in-astronomy.ipynb)\n",
    "2. You should open the [detailed documentation](http://astropy.readthedocs.io/en/stable/time/index.html) of the astropy `Time` class. A couple of direect links to parts of it are listed below for your convenience: \n",
    "\n",
    "    + [Description of time *formats*](http://astropy.readthedocs.io/en/stable/time/index.html#time-format)\n",
    "    + [List of time *scales*](http://docs.astropy.org/en/stable/time/#time-scale)\n",
    "\n"
   ]
  },
  {
   "cell_type": "markdown",
   "metadata": {},
   "source": [
    "## Instructions\n",
    "\n",
    "Complete each of the exercises below. For each exercise for which you need to use code, there is one or more cells to enter code to accomplish the task. You are strongly encouraged to cut and paste from the example notebook listed above!"
   ]
  },
  {
   "cell_type": "markdown",
   "metadata": {},
   "source": [
    "## Run, but do not modify the code cell below \n",
    "\n",
    "This cell imports the code you need for the remainder of the notebook. You **must** run it before any other code cells but you do not need to modify it."
   ]
  },
  {
   "cell_type": "code",
   "execution_count": null,
   "metadata": {
    "collapsed": true
   },
   "outputs": [],
   "source": [
    "# Load Time from astropy \n",
    "from astropy.time import Time"
   ]
  },
  {
   "cell_type": "markdown",
   "metadata": {},
   "source": [
    "## Exercises"
   ]
  },
  {
   "cell_type": "markdown",
   "metadata": {},
   "source": [
    "### 1. What is the *format* of each of the times listed below? Double click on this text to edit the table below, adding the format for each example time.\n",
    "\n",
    "Example time | Time format\n",
    "-------------|------------\n",
    "`J2002.324`  |\n",
    "`2012-08-29 02:00:12.3` |\n",
    "`2449522.4`  | \n",
    "`2016-09-30T14:21:15` | \n"
   ]
  },
  {
   "cell_type": "markdown",
   "metadata": {},
   "source": [
    "### 2. The date/time below is on the UTC scale in ISO format. What is the local date/time in your time zone?\n",
    "\n",
    "UTC: 2015-09-25 02:30:00\n",
    "\n",
    "Local: You fill this in\n",
    "\n",
    "UTC: 2016-01-02 07:00:00\n",
    "\n",
    "Local: You fill this in"
   ]
  },
  {
   "cell_type": "markdown",
   "metadata": {},
   "source": [
    "### 3. According to the AAVSO, the variable star EY UMa will be at its maximum brightness at Julian Date `2455660.62818` (assume the timescale is TDB). \n",
    "+ What time is this, UTC? \n",
    "+ What time is this, local time?\n",
    "\n",
    "You will need to use astropy to calculate the time in UTC and then manually calculate local time."
   ]
  },
  {
   "cell_type": "code",
   "execution_count": null,
   "metadata": {},
   "outputs": [],
   "source": []
  },
  {
   "cell_type": "markdown",
   "metadata": {},
   "source": [
    "### 4. Suppose the local time is July 27, 1993, 14:30:00. \n",
    "+ What is this time in UTC?\n",
    "+ What is this time in ISOT format on the UTC scale?\n",
    "+ What is this time in ISOT format on the TDB scale?"
   ]
  },
  {
   "cell_type": "code",
   "execution_count": null,
   "metadata": {
    "collapsed": true
   },
   "outputs": [],
   "source": []
  }
 ],
 "metadata": {
  "kernelspec": {
   "display_name": "Python 3",
   "language": "python",
   "name": "python3"
  },
  "language_info": {
   "codemirror_mode": {
    "name": "ipython",
    "version": 3
   },
   "file_extension": ".py",
   "mimetype": "text/x-python",
   "name": "python",
   "nbconvert_exporter": "python",
   "pygments_lexer": "ipython3",
   "version": "3.6.4"
  }
 },
 "nbformat": 4,
 "nbformat_minor": 1
}
