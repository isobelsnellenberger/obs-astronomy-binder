{
 "cells": [
  {
   "cell_type": "code",
   "execution_count": null,
   "metadata": {},
   "outputs": [],
   "source": [
    "%matplotlib inline\n",
    "import matplotlib.pyplot as plt\n",
    "\n",
    "import numpy as np\n",
    "from astropy import units as u\n",
    "from astropy.table import Table \n",
    "from astropy.nddata import CCDData\n",
    "from astropy.coordinates import SkyCoord\n",
    "import astropy.coordinates as apycoord\n",
    "import glowing_waffles as gw\n",
    "import notebook_functions as nf"
   ]
  },
  {
   "cell_type": "code",
   "execution_count": null,
   "metadata": {},
   "outputs": [],
   "source": [
    "ccd = CCDData.read('kelt-16-S001-R001-C100-r.fit')"
   ]
  },
  {
   "cell_type": "code",
   "execution_count": null,
   "metadata": {},
   "outputs": [],
   "source": [
    "our_mags = Table.read('all_the_photometry.fits')\n",
    "\n",
    "our_mags = our_mags[our_mags['file'] == 'kelt-16-S001-R001-C100-r.fit']"
   ]
  },
  {
   "cell_type": "code",
   "execution_count": null,
   "metadata": {},
   "outputs": [],
   "source": [
    "apass, apass_x, apass_y, apass_for_transform, in_apass_x, in_apass_y = nf.find_apass_stars(ccd)\n",
    "vsx, vsx_x, vsx_y, vsx_names = nf.find_known_variables(ccd)\n",
    "\n",
    "apass_all_coords = SkyCoord(apass['RAJ2000'], apass['DEJ2000'], unit='deg')\n",
    "apass_for_transform_coords = SkyCoord(apass_for_transform['RAJ2000'], apass_for_transform['DEJ2000'], unit='deg')"
   ]
  },
  {
   "cell_type": "code",
   "execution_count": null,
   "metadata": {},
   "outputs": [],
   "source": [
    "our_coords = SkyCoord(our_mags['RA'], our_mags['Dec'])\n"
   ]
  },
  {
   "cell_type": "code",
   "execution_count": null,
   "metadata": {},
   "outputs": [],
   "source": [
    "apass_for_transform_index, d2d, d3d = apycoord.match_coordinates_sky(our_coords, apass_for_transform_coords)\n",
    "\n",
    "#create a boolean of all of the matches that have a discrepancy of less then 5 arcseconds\n",
    "good_match_for_transform = d2d < 5 * u.arcsecond"
   ]
  },
  {
   "cell_type": "code",
   "execution_count": null,
   "metadata": {},
   "outputs": [],
   "source": [
    "apass_index, d2d_a_idx, d3d_a_idx = apycoord.match_coordinates_sky(our_coords, apass_all_coords)\n",
    "\n",
    "good_match_all = d2d_a_idx < 5 * u.arcsecond\n",
    "apass_all_indexes = apass_index[good_match_all]"
   ]
  },
  {
   "cell_type": "code",
   "execution_count": null,
   "metadata": {},
   "outputs": [],
   "source": [
    "plt.figure(figsize=(20, 10))\n",
    "\n",
    "plt.plot(our_mags['mag_inst_r'][good_match_all], apass['r_mag'][apass_all_indexes], '.')\n",
    "plt.xlabel('instrumental r magnitude')\n",
    "plt.ylabel('catalog r magnitude')"
   ]
  },
  {
   "cell_type": "code",
   "execution_count": null,
   "metadata": {},
   "outputs": [],
   "source": [
    "our_match_mags = our_mags['mag_inst_r'][good_match_for_transform]\n",
    "\n",
    "apass_match_indexes = apass_for_transform_index[good_match_for_transform]\n",
    "\n",
    "apass_match_mags = apass_for_transform['r_mag'][apass_match_indexes]\n",
    "apass_match_color = apass_for_transform['B-V'][apass_match_indexes]\n",
    "\n",
    "good_mags = ~np.isnan(our_match_mags)\n",
    "\n",
    "our_match_mags = our_match_mags[good_mags]\n",
    "apass_match_mags = apass_match_mags[good_mags]\n",
    "apass_match_color = apass_match_color[good_mags]\n",
    "\n",
    "matched_data, transforms = gw.differential_photometry.calculate_transform_coefficients(our_match_mags,\n",
    "                                                            apass_match_mags,\n",
    "                                                            apass_match_color, sigma=2\n",
    "                                                           )"
   ]
  },
  {
   "cell_type": "code",
   "execution_count": null,
   "metadata": {},
   "outputs": [],
   "source": [
    "matched_data2, transforms2 = gw.differential_photometry.calculate_transform_coefficients(our_match_mags,\n",
    "                                                            apass_match_mags,\n",
    "                                                            apass_match_color, sigma=2, faintest_mag=14\n",
    "                                                           )"
   ]
  },
  {
   "cell_type": "code",
   "execution_count": null,
   "metadata": {},
   "outputs": [],
   "source": [
    "plt.figure(figsize=(20, 10))\n",
    "\n",
    "used_in_fit = ~matched_data.mask\n",
    "plt.plot(apass_match_color, apass_match_mags - our_match_mags, 'o')\n",
    "#plt.plot(apass_match_color, matched_data, '+')\n",
    "plt.plot(apass_match_color, transforms(apass_match_color), 'gx')\n",
    "plt.plot(apass_match_color, transforms2(apass_match_color), 'gs')\n",
    "plt.plot(apass_match_color, matched_data2, 'r+')\n",
    "\n",
    "plt.xlabel('Color (B-V, catalog)')\n",
    "plt.ylabel('Catalog - instrumental magnitude')"
   ]
  },
  {
   "cell_type": "code",
   "execution_count": null,
   "metadata": {},
   "outputs": [],
   "source": [
    "our_cat_mags = our_mags['mag_inst_r'][good_match_all] + apass['B-V'][apass_all_indexes] * transforms.parameters[1] + transforms.parameters[0]\n",
    "our_cat_mags2 = our_mags['mag_inst_r'][good_match_all] + apass['B-V'][apass_all_indexes] * transforms2.parameters[1] + transforms2.parameters[0]"
   ]
  },
  {
   "cell_type": "code",
   "execution_count": null,
   "metadata": {},
   "outputs": [],
   "source": [
    "plt.figure(figsize=(20, 10))\n",
    "\n",
    "plt.plot(our_mags['mag_inst_r'][good_match_all] + transforms2.parameters[0], \n",
    "         apass['r_mag'][apass_all_indexes], '.', \n",
    "         color='red', alpha=0.8, label='No color correction')\n",
    "#plt.plot(our_cat_mags, apass['r_mag'][apass_all_indexes], '.', alpha=0.4, label='Color corrected')\n",
    "plt.plot(our_cat_mags2, apass['r_mag'][apass_all_indexes], '.', alpha=0.4, label='Color corrected, BRIGHT')\n",
    "plt.plot([10, 16], [10, 16], label='Slope = 1')\n",
    "plt.xlabel('our catalog r magnitude')\n",
    "plt.ylabel('catalog r magnitude')\n",
    "plt.legend()"
   ]
  },
  {
   "cell_type": "code",
   "execution_count": null,
   "metadata": {},
   "outputs": [],
   "source": [
    "plt.figure(figsize=(20, 10))\n",
    "plt.plot(apass['r_mag'][apass_all_indexes], our_cat_mags - apass['r_mag'][apass_all_indexes], '.', color='blue', label='With color corrections')\n",
    "plt.plot(apass['r_mag'][apass_all_indexes], our_cat_mags2 - apass['r_mag'][apass_all_indexes], '.', color='orange', label='With color corrections')\n",
    "plt.plot(apass['r_mag'][apass_all_indexes], our_mags['mag_inst_r'][good_match_all] + transforms.parameters[0] - apass['r_mag'][apass_all_indexes], '.', color='green', label='Without color corrections')\n",
    "plt.grid()\n",
    "plt.legend()\n",
    "plt.xlabel('Catalog magnitude')\n",
    "plt.ylabel('Our magnitude - catalog')"
   ]
  },
  {
   "cell_type": "code",
   "execution_count": null,
   "metadata": {},
   "outputs": [],
   "source": [
    "(our_cat_mags - apass['r_mag'][apass_all_indexes]).std(), (our_cat_mags2 - apass['r_mag'][apass_all_indexes]).std(), (our_mags['mag_inst_r'][good_match_all] + transforms.parameters[0] - apass['r_mag'][apass_all_indexes]).std()"
   ]
  },
  {
   "cell_type": "code",
   "execution_count": null,
   "metadata": {},
   "outputs": [],
   "source": [
    "plt.figure(figsize=(20, 10))\n",
    "plt.plot(apass['B-V'][apass_all_indexes], our_cat_mags - apass['r_mag'][apass_all_indexes], '.', color='blue', label='With color corrections')\n",
    "plt.plot(apass['B-V'][apass_all_indexes], our_mags['mag_inst_r'][good_match_all] + transforms.parameters[0] - apass['r_mag'][apass_all_indexes], '.', color='green', label='Without color corrections')\n",
    "plt.plot(apass['B-V'][apass_all_indexes], our_cat_mags2 - apass['r_mag'][apass_all_indexes], '.', color='orange', label='With color corrections BETTER')\n",
    "plt.grid()\n",
    "plt.legend()"
   ]
  },
  {
   "cell_type": "code",
   "execution_count": null,
   "metadata": {},
   "outputs": [],
   "source": []
  }
 ],
 "metadata": {
  "kernelspec": {
   "display_name": "Python 3",
   "language": "python",
   "name": "python3"
  },
  "language_info": {
   "codemirror_mode": {
    "name": "ipython",
    "version": 3
   },
   "file_extension": ".py",
   "mimetype": "text/x-python",
   "name": "python",
   "nbconvert_exporter": "python",
   "pygments_lexer": "ipython3",
   "version": "3.6.4"
  }
 },
 "nbformat": 4,
 "nbformat_minor": 2
}
