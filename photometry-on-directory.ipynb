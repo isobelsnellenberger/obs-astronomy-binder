{
 "cells": [
  {
   "cell_type": "code",
   "execution_count": null,
   "metadata": {},
   "outputs": [],
   "source": [
    "%matplotlib inline\n",
    "from matplotlib import pyplot as plt\n",
    "import numpy as np\n",
    "import bottleneck as bn\n",
    "\n",
    "from astropy.nddata import CCDData\n",
    "from astropy.stats import sigma_clipped_stats\n",
    "from astropy.coordinates import SkyCoord\n",
    "from astropy.table import Table, Column, vstack\n",
    "from astropy.visualization import hist\n",
    "from astropy import units as u\n",
    "from astropy.time import Time\n",
    "\n",
    "from ccdproc import combine, ImageFileCollection\n",
    "\n",
    "import reproject\n",
    "\n",
    "from photutils import DAOStarFinder, CircularAperture, CircularAnnulus, aperture_photometry, centroid_sources\n",
    "\n",
    "from astrowidgets import ImageWidget"
   ]
  },
  {
   "cell_type": "markdown",
   "metadata": {},
   "source": [
    "## The image viewer widget is optional..."
   ]
  },
  {
   "cell_type": "code",
   "execution_count": null,
   "metadata": {},
   "outputs": [],
   "source": [
    "iw = ImageWidget()\n",
    "iw"
   ]
  },
  {
   "cell_type": "code",
   "execution_count": null,
   "metadata": {},
   "outputs": [],
   "source": [
    "iw.load_fits('kelt-16-S001-R001-C100-r.fit')\n",
    "#iw.load_fits('kelt-16-b-S001-R001-C130-r.fit')"
   ]
  },
  {
   "cell_type": "code",
   "execution_count": null,
   "metadata": {},
   "outputs": [],
   "source": [
    "iw.center_on(SkyCoord(313.92459686592696, 31.78329193408578, unit='degree'), pixel_coords_offset=0)"
   ]
  },
  {
   "cell_type": "code",
   "execution_count": null,
   "metadata": {},
   "outputs": [],
   "source": [
    "iw.center_on(SkyCoord.from_name('kelt-16'))"
   ]
  },
  {
   "cell_type": "markdown",
   "metadata": {},
   "source": [
    "# Required stuff starts here"
   ]
  },
  {
   "cell_type": "markdown",
   "metadata": {},
   "source": [
    "## Read one image to use detect sources\n",
    "\n",
    "This could be any image; I chose one roughly in the middle of the sequence. Ideally maybe we'd choose sources that were only in all of the images, but this will work for now."
   ]
  },
  {
   "cell_type": "code",
   "execution_count": null,
   "metadata": {},
   "outputs": [],
   "source": [
    "ccd = CCDData.read('kelt-16-S001-R001-C100-r.fit')"
   ]
  },
  {
   "cell_type": "code",
   "execution_count": null,
   "metadata": {},
   "outputs": [],
   "source": [
    "def faster_sigma_clip_stats(data, sigma=5, iters=5, axis=None):\n",
    "    data = data.copy()\n",
    "    for _ in range(iters):\n",
    "        central = bn.nanmedian(data, axis=axis)\n",
    "        try:\n",
    "            central = central[:, np.newaxis]\n",
    "        except (ValueError, IndexError):\n",
    "            pass\n",
    "                \n",
    "        std_dif = 1.4826 * bn.nanmedian(np.abs(data - central))\n",
    "        clips = np.abs(data - central) / std_dif > sigma\n",
    "        if clips.sum() == 0:\n",
    "            break\n",
    "        data[clips] = np.nan\n",
    "    return bn.nanmean(data, axis=axis), bn.nanmedian(data, axis=axis), bn.nanstd(data, axis=axis)"
   ]
  },
  {
   "cell_type": "markdown",
   "metadata": {},
   "source": [
    "The background light from the sky needs to be removed before looking for sources. We'll do that by calculating the median. \"Sigma clipping\" is the term for excluding data that is far from the average...here we do it mostly to exclude the \"bright\" pixels (i.e. the stars) from our estimate of the background."
   ]
  },
  {
   "cell_type": "code",
   "execution_count": null,
   "metadata": {},
   "outputs": [],
   "source": [
    "men, med, std = faster_sigma_clip_stats(ccd.data, sigma=5)\n",
    "men, med, std"
   ]
  },
  {
   "cell_type": "markdown",
   "metadata": {},
   "source": [
    "This sets up the source detection. The FWHM turns out to be key...making it too small results in a single star being detected as two separate sources.\n",
    "\n",
    "Stars must be brighter than the threshold to count as sources. Making the number higher gives you fewer detected sources, lower gives you more. There is no \"magic\" number."
   ]
  },
  {
   "cell_type": "code",
   "execution_count": null,
   "metadata": {},
   "outputs": [],
   "source": [
    "dao = DAOStarFinder(threshold=10 * std, fwhm=8, exclude_border=True)"
   ]
  },
  {
   "cell_type": "markdown",
   "metadata": {},
   "source": [
    "Actually detect the stars..."
   ]
  },
  {
   "cell_type": "code",
   "execution_count": null,
   "metadata": {
    "scrolled": false
   },
   "outputs": [],
   "source": [
    "stars = dao(ccd - med)"
   ]
  },
  {
   "cell_type": "markdown",
   "metadata": {},
   "source": [
    "## Only include this if you have an image viewer above\n",
    "\n",
    "It is handy to see where the detected sources are...."
   ]
  },
  {
   "cell_type": "code",
   "execution_count": null,
   "metadata": {},
   "outputs": [],
   "source": [
    "iw.reset_markers()\n",
    "iw.marker = {'type': 'circle', 'color': 'lightgreen', 'radius': 10}\n",
    "iw.add_markers(stars, x_colname='xcentroid', y_colname='ycentroid', pixel_coords_offset=0)"
   ]
  },
  {
   "cell_type": "markdown",
   "metadata": {},
   "source": [
    "## Pick aperture and annulus sizes\n",
    "\n",
    "Probably the best way to do this for now is to upload one of the kelt-16 images to the notebook we used in class to plot star profiles. You want an aperture about 2×FWHM, an annulus with  an inner radius at least 10 pixels larger than that, and outer radius about 15 pixels larger than the inner."
   ]
  },
  {
   "cell_type": "code",
   "execution_count": null,
   "metadata": {},
   "outputs": [],
   "source": [
    "aperture_rad = 12\n",
    "inner_annulus = aperture_rad + 15\n",
    "outer_annulus = inner_annulus + 15"
   ]
  },
  {
   "cell_type": "markdown",
   "metadata": {},
   "source": [
    "Set up the aperture objects used later by photutils to do the photometry."
   ]
  },
  {
   "cell_type": "code",
   "execution_count": null,
   "metadata": {},
   "outputs": [],
   "source": [
    "aps = CircularAperture([stars['xcentroid'], stars['ycentroid']], r=aperture_rad)\n",
    "anuls = CircularAnnulus([stars['xcentroid'], stars['ycentroid']], inner_annulus, outer_annulus)"
   ]
  },
  {
   "cell_type": "markdown",
   "metadata": {},
   "source": [
    "## Set pixels that are above point where CCD becomes non-linear to invalid value\n",
    "\n",
    "This will ensure that the aperture sum is an invalid value if one or more of the pixels in the aperture is non-linear. *Change the value below to what you think is appropriate -- I'm going from memory.*"
   ]
  },
  {
   "cell_type": "code",
   "execution_count": null,
   "metadata": {},
   "outputs": [],
   "source": [
    "max_adu = 45000\n",
    "ccd.data[ccd.data > max_adu] = np.nan"
   ]
  },
  {
   "cell_type": "markdown",
   "metadata": {},
   "source": [
    "## Set up sky coordinates of target list\n",
    "\n",
    "We'll want to the list of stars in RA/Dec so we can find them in each image. \n",
    "\n",
    "`star_locs` is waht is used later on to place the apertures"
   ]
  },
  {
   "cell_type": "code",
   "execution_count": null,
   "metadata": {},
   "outputs": [],
   "source": [
    "star_locs = ccd.wcs.all_pix2world(stars['xcentroid'], stars['ycentroid'], 0)"
   ]
  },
  {
   "cell_type": "markdown",
   "metadata": {},
   "source": [
    "### Check for stars closer than 2 × aperture radius and remove from list"
   ]
  },
  {
   "cell_type": "code",
   "execution_count": null,
   "metadata": {},
   "outputs": [],
   "source": [
    "star_coords = SkyCoord(ra=star_locs[0], dec=star_locs[1], frame='icrs', unit='degree')"
   ]
  },
  {
   "cell_type": "code",
   "execution_count": null,
   "metadata": {},
   "outputs": [],
   "source": [
    "idxc, d2d, d3d = star_coords.match_to_catalog_sky(star_coords, nthneighbor=2)"
   ]
  },
  {
   "cell_type": "code",
   "execution_count": null,
   "metadata": {},
   "outputs": [],
   "source": [
    "d2d.min()"
   ]
  },
  {
   "cell_type": "code",
   "execution_count": null,
   "metadata": {},
   "outputs": [],
   "source": [
    "too_close = d2d < (aperture_rad * 2 * 0.563 * u.arcsec)"
   ]
  },
  {
   "cell_type": "markdown",
   "metadata": {},
   "source": [
    "### Include this only if you have the image viewer -- it shows which stars are being removed"
   ]
  },
  {
   "cell_type": "code",
   "execution_count": null,
   "metadata": {},
   "outputs": [],
   "source": [
    "iw.marker = {'type': 'circle', 'color': 'red', 'radius': 20}\n",
    "iw.add_markers(stars[too_close], x_colname='xcentroid', y_colname='ycentroid', pixel_coords_offset=0)"
   ]
  },
  {
   "cell_type": "code",
   "execution_count": null,
   "metadata": {},
   "outputs": [],
   "source": [
    "star_locs = (star_locs[0][~too_close], star_locs[1][~too_close])"
   ]
  },
  {
   "cell_type": "markdown",
   "metadata": {},
   "source": [
    "### Make up a unique ID for each star"
   ]
  },
  {
   "cell_type": "code",
   "execution_count": null,
   "metadata": {},
   "outputs": [],
   "source": [
    "star_ids = np.arange(len(star_locs[0])) + 1"
   ]
  },
  {
   "cell_type": "markdown",
   "metadata": {},
   "source": [
    "## Define a couple of convenience functions"
   ]
  },
  {
   "cell_type": "markdown",
   "metadata": {},
   "source": [
    "### Calculate average pixel values in annulus, rejecting extreme values"
   ]
  },
  {
   "cell_type": "code",
   "execution_count": null,
   "metadata": {},
   "outputs": [],
   "source": [
    "def clipped_sky_per_pix_stats(data, annulus, sigma=5, iters=5):\n",
    "    # Get a list of masks from the annuli\n",
    "    # Use the 'center' method because then pixels are either in or out. To use\n",
    "    # 'partial' or 'exact' we would need to do a weighted sigma clip and I'm not sure \n",
    "    # how to do that.\n",
    "    masks = annulus.to_mask(method='center')\n",
    "    \n",
    "    anul_list = []\n",
    "    for mask in masks:\n",
    "        # Multiply the mask times the data\n",
    "        to_clip = mask.multiply(data.data, fill_value=np.nan)\n",
    "        anul_list.append(to_clip.flatten())\n",
    "    # Convert the list to an array for doing the sigma clip\n",
    "    anul_array = np.array(anul_list)\n",
    "    # Turn all zeros into np.nan...\n",
    "    anul_array[anul_array == 0] = np.nan\n",
    "    avg_sky_per_pix, med_sky_per_pix, std_sky_per_pix = faster_sigma_clip_stats(anul_array, \n",
    "                                                                                sigma=sigma, \n",
    "                                                                                iters=iters,\n",
    "                                                                                axis=1\n",
    "                                                                               )\n",
    "\n",
    "    return (avg_sky_per_pix * data.unit, med_sky_per_pix * data.unit, std_sky_per_pix * data.unit)"
   ]
  },
  {
   "cell_type": "markdown",
   "metadata": {},
   "source": [
    "### Add more columns to the data table "
   ]
  },
  {
   "cell_type": "code",
   "execution_count": null,
   "metadata": {},
   "outputs": [],
   "source": [
    "def add_to_photometry_table(phot, ccd, annulus, apertures, fname='', \n",
    "                            star_ids=None, gain=None):\n",
    "    phot.rename_column('aperture_sum_0', 'aperture_sum')\n",
    "    phot['aperture_sum'].unit = u.adu\n",
    "    phot.rename_column('aperture_sum_1', 'annulus_sum')\n",
    "    star_locs = ccd.wcs.all_pix2world(phot['xcenter'], phot['ycenter'], 0)\n",
    "    star_coords = SkyCoord(ra=star_locs[0], dec=star_locs[1], frame='icrs', unit='degree')\n",
    "    phot['RA'] = star_coords.ra\n",
    "    phot['Dec'] = star_coords.dec\n",
    "    print('        ...calculating clipped sky stats')\n",
    "    avg_sky_per_pix, med_sky_per_pix, std_sky_per_pix = clipped_sky_per_pix_stats(ccd, annulus)\n",
    "    print('        ...DONE calculating clipp sky stats')\n",
    "    phot['sky_per_pix_avg'] = avg_sky_per_pix\n",
    "    phot['sky_per_pix_med'] = med_sky_per_pix\n",
    "    phot['sky_per_pix_std'] = std_sky_per_pix\n",
    "    phot['aperture'] = apertures.r * u.pixel\n",
    "    phot['aperture_area'] = apertures.area() # * u.pixel * u.pixel\n",
    "    phot['annulus_inner'] = annulus.r_in * u.pixel\n",
    "    phot['annulus_outer'] = annulus.r_out * u.pixel\n",
    "    phot['annulus_area'] = annulus.area() #* u.pixel * u.pixel\n",
    "    phot['exposure'] = [ccd.header['exposure']] * len(phot) * u.second\n",
    "    phot['date-obs'] = [ccd.header['DATE-OBS']] * len(phot)\n",
    "    night = Time(ccd.header['DATE-OBS'], scale='utc')\n",
    "    night.format = 'mjd'\n",
    "    phot['night'] = np.int(np.floor(night.value - 0.5))\n",
    "    phot['aperture_net_flux'] = phot['aperture_sum'] - phot['aperture_area'] * phot['sky_per_pix_avg']\n",
    "    \n",
    "    if gain is not None:\n",
    "        phot['mag_inst_{}'.format(ccd.header['filter'])] = -2.5 * np.log10(gain * phot['aperture_net_flux'].value / phot['exposure'].value)\n",
    "\n",
    "    metadata_to_add = ['AIRMASS', 'FILTER']\n",
    "    for meta in metadata_to_add:\n",
    "        phot[meta.lower()] = [ccd.header[meta]] * len(phot)    \n",
    "    if fname:\n",
    "        phot['file'] = fname\n",
    "    if star_ids is not None:\n",
    "        phot['star_id'] = star_ids"
   ]
  },
  {
   "cell_type": "markdown",
   "metadata": {},
   "source": [
    "## We are ready to do photometry on all of the images\n",
    "\n",
    "### Get the images in this folder..."
   ]
  },
  {
   "cell_type": "code",
   "execution_count": null,
   "metadata": {},
   "outputs": [],
   "source": [
    "ifc = ImageFileCollection('.')"
   ]
  },
  {
   "cell_type": "markdown",
   "metadata": {},
   "source": [
    "### Loop over all images and do photometry on them. \n",
    "\n",
    "+ Change the object name if you need to.\n",
    "+ If there are images you want to skip put them in a different folder"
   ]
  },
  {
   "cell_type": "code",
   "execution_count": null,
   "metadata": {},
   "outputs": [],
   "source": [
    "phots = []\n",
    "missing_stars = []\n",
    "for a_ccd, fname in ifc.ccds(object='kelt-16b', return_fname=True):\n",
    "    print('on image ', fname)\n",
    "    # Convert RA/Dec to pixel coordinates for this image\n",
    "    pix_coords = a_ccd.wcs.all_world2pix(star_locs[0], star_locs[1], 0)\n",
    "    xs, ys = pix_coords\n",
    "    \n",
    "    # Remove anything that is too close to the edges/out of frame\n",
    "    padding = 3 * aperture_rad\n",
    "    out_of_bounds = (xs < padding) | (xs > (a_ccd.shape[0] - padding)) | (ys < padding) | (ys > (a_ccd.shape[1] - padding))\n",
    "    in_bounds = ~out_of_bounds\n",
    "    \n",
    "    # Find centroids of each region around star that is in_bounds\n",
    "    xs_in = xs[in_bounds]\n",
    "    ys_in = ys[in_bounds]\n",
    "    print('    ...finding centroids')\n",
    "    xcen, ycen = centroid_sources(a_ccd.data, xs_in, ys_in, box_size=2 * aperture_rad + 1)\n",
    "\n",
    "    # Calculate offset between centroid in this image and the positions based on \n",
    "    # input RA/Dec. Later we wil set the magnitude of those with large differences\n",
    "    # to an invalid value (maybe).\n",
    "    center_diff = np.sqrt((xs_in - xcen)**2 + (ys_in - ycen)**2)\n",
    "\n",
    "    #Set up apertures and annuli based on the centroids in this image.\n",
    "    aps = CircularAperture((xcen, ycen), r=aperture_rad)\n",
    "    anuls = CircularAnnulus((xcen, ycen), inner_annulus, outer_annulus)\n",
    "\n",
    "    # Set any clearly bad values to NaN\n",
    "    a_ccd.data[a_ccd.data > max_adu] = np.nan\n",
    "    print('    ...doing photometry')\n",
    "    # Do the photometry...\n",
    "    pho = aperture_photometry(a_ccd.data, (aps, anuls), mask=a_ccd.mask, method='center')\n",
    "\n",
    "    # We may have some stars we did not do photometry for because those stars were out of bounds.\n",
    "    # Add the ones we missed to the list of missing\n",
    "    missed = star_ids[out_of_bounds]\n",
    "    missing_stars.append(missed)\n",
    "\n",
    "    # Add all the extra goodies to the table\n",
    "    print('    ...adding extra columns')\n",
    "    add_to_photometry_table(pho, a_ccd, anuls, aps, fname=fname, star_ids=star_ids[in_bounds],\n",
    "                            gain=1.47)\n",
    "    # And add the final table to the list of tables\n",
    "    phots.append(pho)"
   ]
  },
  {
   "cell_type": "markdown",
   "metadata": {},
   "source": [
    "### Combine all of the individual photometry tables into one"
   ]
  },
  {
   "cell_type": "code",
   "execution_count": null,
   "metadata": {},
   "outputs": [],
   "source": [
    "all_phot = vstack(phots)"
   ]
  },
  {
   "cell_type": "markdown",
   "metadata": {},
   "source": [
    "### Eliminate any stars that are missing from one or more images\n",
    "\n",
    "This makes life a little easier later..."
   ]
  },
  {
   "cell_type": "code",
   "execution_count": null,
   "metadata": {},
   "outputs": [],
   "source": [
    "uniques = set()\n",
    "for miss in missing_stars:\n",
    "    uniques.update(set(miss))\n",
    "\n",
    "actually_bad = sorted([u for u in uniques if u in all_phot['star_id']])\n",
    "len(uniques), len(actually_bad)"
   ]
  },
  {
   "cell_type": "code",
   "execution_count": null,
   "metadata": {},
   "outputs": [],
   "source": [
    "all_phot.add_index('star_id')\n",
    "bad_rows = all_phot.loc_indices[actually_bad]"
   ]
  },
  {
   "cell_type": "code",
   "execution_count": null,
   "metadata": {},
   "outputs": [],
   "source": [
    "all_phot.remove_indices('star_id')\n",
    "all_phot.remove_rows(sorted(bad_rows))"
   ]
  },
  {
   "cell_type": "markdown",
   "metadata": {},
   "source": [
    "### Write out the file!"
   ]
  },
  {
   "cell_type": "code",
   "execution_count": null,
   "metadata": {
    "scrolled": false
   },
   "outputs": [],
   "source": [
    "all_phot"
   ]
  },
  {
   "cell_type": "code",
   "execution_count": null,
   "metadata": {},
   "outputs": [],
   "source": [
    "all_phot.write('all_the_photometry.fits')"
   ]
  },
  {
   "cell_type": "code",
   "execution_count": null,
   "metadata": {},
   "outputs": [],
   "source": [
    "all_phot.write('all_the_photometry.csv')"
   ]
  }
 ],
 "metadata": {
  "kernelspec": {
   "display_name": "Python 3",
   "language": "python",
   "name": "python3"
  },
  "language_info": {
   "codemirror_mode": {
    "name": "ipython",
    "version": 3
   },
   "file_extension": ".py",
   "mimetype": "text/x-python",
   "name": "python",
   "nbconvert_exporter": "python",
   "pygments_lexer": "ipython3",
   "version": "3.6.4"
  }
 },
 "nbformat": 4,
 "nbformat_minor": 2
}
