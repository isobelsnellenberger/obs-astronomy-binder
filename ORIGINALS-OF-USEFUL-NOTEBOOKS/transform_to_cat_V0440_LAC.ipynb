{
 "cells": [
  {
   "cell_type": "code",
   "execution_count": null,
   "metadata": {},
   "outputs": [],
   "source": [
    "%matplotlib inline\n",
    "import matplotlib.pyplot as plt\n",
    "\n",
    "import numpy as np\n",
    "\n",
    "from pathlib import Path\n",
    "\n",
    "from astropy import units as u\n",
    "from astropy.table import Table \n",
    "from astropy.nddata import CCDData\n",
    "from astropy.coordinates import SkyCoord, EarthLocation\n",
    "from astropy.time import Time, TimeDeltaSec\n",
    "from astropy.wcs import NoConvergence\n",
    "\n",
    "import glowing_waffles.differential_photometry as gwdf\n",
    "\n",
    "from astrowidgets import ImageWidget"
   ]
  },
  {
   "cell_type": "markdown",
   "metadata": {},
   "source": [
    "## This should be any one of the images in your night"
   ]
  },
  {
   "cell_type": "code",
   "execution_count": null,
   "metadata": {},
   "outputs": [],
   "source": [
    "directory_with_images = '.'\n",
    "\n",
    "# If your magnitudes are in the same directory as the images then do\n",
    "# directory_with_magnitude_file = directory_with_images\n",
    "directory_with_magnitude_file = '.'\n",
    "\n",
    "object_of_interest = 'v0440 lac'\n",
    "sample_image_for_finding_stars = 'v0440-lac-S001-R033-C001-r.fit'\n",
    "\n",
    "input_photometry_file = 'all_the_photometry_v0440-lac1.fits'\n",
    "\n",
    "# Set the faintest stars to use in calibrating the magnitudes\n",
    "# For the new camera (any nights in 2018) use 13\n",
    "# For the old camera (any older nights) use 16\n",
    "faintest_mag = 12.4\n",
    "\n",
    "# Set the name of the apass column to use for calibration\n",
    "# Should be r_mag for the new camera, R_mag for the old\n",
    "apass_cal_mag = 'r_mag'\n",
    "\n",
    "# Set the name of thecolumn in our data file for our instrumental magnitude\n",
    "# Should be mag_inst_r for the new camera, mag_inst_R for the old\n",
    "feder_instrumental_mag = 'mag_inst_r'\n",
    "\n",
    "# This must be a different file name\n",
    "output_photometry_file = 'v0440-lac_photometry_calib.fits'\n",
    "\n",
    "# Special apass dr10 table for v0440 lac\n",
    "apass_table_location = '/hdr/calibrated/apass10_v0440_lac.csv'"
   ]
  },
  {
   "cell_type": "code",
   "execution_count": null,
   "metadata": {},
   "outputs": [],
   "source": [
    "ccd = CCDData.read(Path(directory_with_images) / sample_image_for_finding_stars)"
   ]
  },
  {
   "cell_type": "code",
   "execution_count": null,
   "metadata": {},
   "outputs": [],
   "source": [
    "apass, apass_x, apass_y, apass_for_transform, in_apass_x, in_apass_y = gwdf.find_apass_stars(ccd)\n",
    "vsx, vsx_x, vsx_y, vsx_names = gwdf.find_known_variables(ccd)\n",
    "\n",
    "apass_all_coords = SkyCoord(apass['RAJ2000'], apass['DEJ2000'], unit='deg')\n",
    "apass_for_transform_coords = SkyCoord(apass_for_transform['RAJ2000'], apass_for_transform['DEJ2000'], unit='deg')"
   ]
  },
  {
   "cell_type": "code",
   "execution_count": null,
   "metadata": {},
   "outputs": [],
   "source": [
    "apa = Table.read(apass_table_location)"
   ]
  },
  {
   "cell_type": "code",
   "execution_count": null,
   "metadata": {},
   "outputs": [],
   "source": [
    "for filt in ['u', 'g', 'r', 'i', 'z']:\n",
    "    apa.rename_column(f'Sloan_{filt} (S{filt.upper()})', f'{filt}_mag')\n",
    "    better_mag = [float(mag) if mag != 'NA' else np.nan for mag in apa[f'{filt}_mag'] ]\n",
    "    apa[f'{filt}_mag'] = better_mag\n",
    "    better_mag = [float(mag) if mag != 'NA' else np.nan for mag in apa[f'S{filt.upper()}err'] ]\n",
    "    apa[f'S{filt.upper()}err'] = better_mag\n",
    "for filt in ['B', 'V']:\n",
    "    apa.rename_column(f'Johnson_{filt} ({filt})', f'{filt}_mag')\n",
    "    better_mag = [float(mag) if mag != 'NA' else np.nan for mag in apa[f'{filt}_mag'] ]\n",
    "    apa[f'{filt}_mag'] = better_mag\n",
    "    better_mag = [float(mag) if mag != 'NA' else np.nan for mag in apa[f'{filt.upper()}err'] ]\n",
    "    apa[f'{filt.upper()}err'] = better_mag\n",
    "    \n",
    "apa['B-V'] = apa['B_mag'] - apa['V_mag']\n",
    "\n",
    "mask = np.isnan(apa['r_mag']) | np.isnan(apa['i_mag']) | np.isnan(apa['B-V'])\n",
    "\n",
    "apa.rename_column('radeg', 'RAJ2000')\n",
    "apa.rename_column('decdeg', 'DEJ2000')\n",
    "\n",
    "apa = Table(apa, masked=True)\n",
    "for col in ['r_mag', 'i_mag', 'B-V']:\n",
    "    apa[col].mask = np.isnan(apa[col])"
   ]
  },
  {
   "cell_type": "code",
   "execution_count": null,
   "metadata": {},
   "outputs": [],
   "source": [
    "apa_all_coords = SkyCoord(apa['RAJ2000'], apa['DEJ2000'], unit='deg')"
   ]
  },
  {
   "cell_type": "code",
   "execution_count": null,
   "metadata": {},
   "outputs": [],
   "source": [
    "iw = ImageWidget()\n",
    "iw.load_nddata(ccd)\n",
    "iw"
   ]
  },
  {
   "cell_type": "code",
   "execution_count": null,
   "metadata": {},
   "outputs": [],
   "source": [
    "x, y = ccd.wcs.all_world2pix(apass_all_coords.ra, apass_all_coords.dec, 0)\n",
    "tabl = Table(data=[x, y], names=['x', 'y'])\n",
    "iw.marker = {'type': 'circle', 'color': 'cyan', 'radius': 20}\n",
    "\n",
    "iw.add_markers(tabl, pixel_coords_offset=0)"
   ]
  },
  {
   "cell_type": "code",
   "execution_count": null,
   "metadata": {},
   "outputs": [],
   "source": [
    "np.isnan(apa_all_coords.dec).sum()"
   ]
  },
  {
   "cell_type": "code",
   "execution_count": null,
   "metadata": {},
   "outputs": [],
   "source": [
    "x, y = ccd.wcs.all_world2pix(apa_all_coords.ra, apa_all_coords.dec, 0)\n",
    "tabl = Table(data=[x, y], names=['x', 'y'])\n",
    "iw.marker = {'type': 'circle', 'color': 'yellow', 'radius': 30}\n",
    "\n",
    "iw.add_markers(tabl, pixel_coords_offset=0)"
   ]
  },
  {
   "cell_type": "code",
   "execution_count": null,
   "metadata": {},
   "outputs": [],
   "source": [
    "tabl = Table(data=[vsx_x, vsx_y], names=['x', 'y'])\n",
    "iw.marker = {'type': 'circle', 'color': 'green', 'radius': 20}\n",
    "iw.add_markers(tabl, pixel_coords_offset=0)"
   ]
  },
  {
   "cell_type": "code",
   "execution_count": null,
   "metadata": {},
   "outputs": [],
   "source": [
    "apass = apa\n",
    "apass_bright = ((apass['SRerr'] < 0.05) & \n",
    "        (np.sqrt(apass['Verr']**2 + apass['Berr']**2) < 0.1))\n",
    "apass_for_transform = apass[apass_bright]\n",
    "\n",
    "apass_all_coords = SkyCoord(apass['RAJ2000'], apass['DEJ2000'], unit='deg')\n",
    "apass_for_transform_coords = SkyCoord(apass_for_transform['RAJ2000'], apass_for_transform['DEJ2000'], unit='deg')"
   ]
  },
  {
   "cell_type": "markdown",
   "metadata": {},
   "source": [
    "## Add column for R filter in case we need it"
   ]
  },
  {
   "cell_type": "code",
   "execution_count": null,
   "metadata": {},
   "outputs": [],
   "source": [
    "apass['R_mag'] = gwdf.filter_transform(apass, 'R', r='r_mag', i='i_mag', transform='ivezic')\n",
    "apass_for_transform['R_mag'] = gwdf.filter_transform(apass_for_transform, 'R', r='r_mag', i='i_mag', transform='ivezic')"
   ]
  },
  {
   "cell_type": "markdown",
   "metadata": {},
   "source": [
    "## Read in the data file"
   ]
  },
  {
   "cell_type": "code",
   "execution_count": null,
   "metadata": {},
   "outputs": [],
   "source": [
    "input_mags = Table.read(Path(directory_with_magnitude_file) / input_photometry_file)"
   ]
  },
  {
   "cell_type": "markdown",
   "metadata": {},
   "source": [
    "## Get our \"star_id\" for object of interest"
   ]
  },
  {
   "cell_type": "code",
   "execution_count": null,
   "metadata": {},
   "outputs": [],
   "source": [
    "object_of_interest_coords = SkyCoord.from_name(object_of_interest)\n",
    "\n",
    "input_coords = SkyCoord(input_mags['RA'], input_mags['Dec'])\n",
    "idx, d2d, d3d = object_of_interest_coords.match_to_catalog_sky(input_coords)\n",
    "\n",
    "object_of_interest_id = input_mags['star_id'][idx]\n",
    "object_of_interest_id"
   ]
  },
  {
   "cell_type": "code",
   "execution_count": null,
   "metadata": {},
   "outputs": [],
   "source": [
    "input_mags['mag_cal'] = np.zeros(len(input_mags))\n",
    "input_mags['zero_point'] = np.zeros(len(input_mags))\n",
    "input_mags['color_term'] = np.zeros(len(input_mags))\n",
    "input_mags['t_start_tdb'] = np.zeros(len(input_mags))\n",
    "input_mags['t_mid_tdb'] = np.zeros(len(input_mags))\n",
    "\n",
    "mags_grouped = input_mags.group_by('file')"
   ]
  },
  {
   "cell_type": "code",
   "execution_count": null,
   "metadata": {},
   "outputs": [],
   "source": [
    "feder = EarthLocation(\"263.54672d\", \"46.86678d\")"
   ]
  },
  {
   "cell_type": "code",
   "execution_count": null,
   "metadata": {},
   "outputs": [],
   "source": [
    "input_mags.colnames"
   ]
  },
  {
   "cell_type": "code",
   "execution_count": null,
   "metadata": {
    "scrolled": false
   },
   "outputs": [],
   "source": [
    "print('On image...', end='')\n",
    "for idx, our_mags in enumerate(mags_grouped.groups):\n",
    "    print(str(idx) + '..', end='')\n",
    "    new_mags, matches, transform = gwdf.transform_magnitudes(our_mags, apass, apass_for_transform, \n",
    "                                                faintest_mag_for_transform=faintest_mag,\n",
    "                                                input_mag_colum=feder_instrumental_mag,\n",
    "                                                catalog_mag_column=apass_cal_mag,\n",
    "                                                catalog_color_column='B-V',\n",
    "                                                             plot_label=our_mags['file'][0]\n",
    "                                               )\n",
    "    our_mags['mag_cal'][matches] = new_mags.data.filled(np.nan)\n",
    "    our_mags['mag_cal'][~matches] = np.nan\n",
    "    our_mags['zero_point'] = transform.parameters[0]\n",
    "    our_mags['color_term'] = transform.parameters[1]\n",
    "    t_utc = Time(our_mags['date-obs'], scale='utc', location=feder)\n",
    "    our_coords = SkyCoord(our_mags['RA'], our_mags['Dec'])\n",
    "    delta_t_tdb = t_utc.light_travel_time(our_coords)\n",
    "    t_tdb = t_utc.tdb + delta_t_tdb\n",
    "    t_tdb_mid = t_tdb + our_mags['exposure'] / 2\n",
    "    our_mags['t_start_tdb'][:] = t_tdb.jd\n",
    "    our_mags['t_mid_tdb'][:] = t_tdb_mid.jd"
   ]
  },
  {
   "cell_type": "code",
   "execution_count": null,
   "metadata": {},
   "outputs": [],
   "source": [
    "mags_grouped.sort('t_start_tdb')"
   ]
  },
  {
   "cell_type": "code",
   "execution_count": null,
   "metadata": {},
   "outputs": [],
   "source": [
    "mags_grouped = mags_grouped[mags_grouped['file'] != 'kelt-16-b-combined.fit']"
   ]
  },
  {
   "cell_type": "code",
   "execution_count": null,
   "metadata": {},
   "outputs": [],
   "source": [
    "object_alone = mags_grouped[mags_grouped['star_id'] == object_of_interest_id]"
   ]
  },
  {
   "cell_type": "markdown",
   "metadata": {},
   "source": [
    "## Identify known variables in the field "
   ]
  },
  {
   "cell_type": "markdown",
   "metadata": {},
   "source": [
    "### Do the matching..."
   ]
  },
  {
   "cell_type": "code",
   "execution_count": null,
   "metadata": {},
   "outputs": [],
   "source": [
    "mag_coords = SkyCoord(mags_grouped['RA'], mags_grouped['Dec'])\n",
    "vsx_coords = SkyCoord(vsx['RAJ2000'], vsx['DEJ2000'])\n",
    "vsx_idx, d2d, d3d = mag_coords.match_to_catalog_sky(vsx_coords)\n",
    "matches = d2d < 3 * u.arcsec"
   ]
  },
  {
   "cell_type": "markdown",
   "metadata": {},
   "source": [
    "### Add VSX name column to output table"
   ]
  },
  {
   "cell_type": "code",
   "execution_count": null,
   "metadata": {},
   "outputs": [],
   "source": [
    "vsx_names = np.array([''] * len(mags_grouped), dtype='S50')\n",
    "vsx_names[matches] = vsx['Name'][vsx_idx[matches]]\n",
    "mags_grouped['vsx_name'] = vsx_names"
   ]
  },
  {
   "cell_type": "markdown",
   "metadata": {},
   "source": [
    "## The file name below is probably too generic"
   ]
  },
  {
   "cell_type": "code",
   "execution_count": null,
   "metadata": {},
   "outputs": [],
   "source": [
    "mags_grouped.write(output_photometry_file)"
   ]
  },
  {
   "cell_type": "markdown",
   "metadata": {},
   "source": [
    "## The light curve we want to make is a scatter plot\n",
    "\n",
    "with the column 't_mid_tdb' on the horizontal axis and 'mag_cal' on the vertical axis."
   ]
  },
  {
   "cell_type": "code",
   "execution_count": null,
   "metadata": {},
   "outputs": [],
   "source": [
    "regrouped = mags_grouped.group_by('file')\n",
    "agg_regrouped = regrouped.groups.aggregate(np.mean)"
   ]
  },
  {
   "cell_type": "code",
   "execution_count": null,
   "metadata": {},
   "outputs": [],
   "source": [
    "plt.figure(figsize=(15, 5))\n",
    "plt.plot(agg_regrouped['color_term'], '.')\n",
    "#plt.ylim(-0.05, 0.05)\n",
    "plt.grid()"
   ]
  },
  {
   "cell_type": "code",
   "execution_count": null,
   "metadata": {},
   "outputs": [],
   "source": [
    "plt.figure(figsize=(15, 5))\n",
    "plt.grid()\n",
    "plt.plot(agg_regrouped['t_mid_tdb'], agg_regrouped['zero_point'], '.')\n",
    "#plt.ylim(20, 21)"
   ]
  },
  {
   "cell_type": "markdown",
   "metadata": {},
   "source": [
    "## Graph of your object, *uncalibrated* magnitudes"
   ]
  },
  {
   "cell_type": "code",
   "execution_count": null,
   "metadata": {},
   "outputs": [],
   "source": [
    "object_alone.colnames"
   ]
  },
  {
   "cell_type": "code",
   "execution_count": null,
   "metadata": {},
   "outputs": [],
   "source": [
    "plt.figure(figsize=(15, 5))\n",
    "plt.plot(object_alone['t_mid_tdb'], object_alone['mag_inst_r'], '.')\n",
    "plt.ylim(reversed(plt.ylim()))\n",
    "plt.title('REPLACE THIS TEXT WITH MEANINGFUL TITLE')\n",
    "plt.ylabel('instrumental magnitude, r filter')\n",
    "plt.xlabel('barycentric julian date')\n",
    "plt.grid()"
   ]
  },
  {
   "cell_type": "markdown",
   "metadata": {},
   "source": [
    "## Graph of your object, *calibrated* magnitudes"
   ]
  },
  {
   "cell_type": "code",
   "execution_count": null,
   "metadata": {},
   "outputs": [],
   "source": [
    "plt.figure(figsize=(15, 5))\n",
    "\n",
    "plt.plot(object_alone['t_mid_tdb'], object_alone['mag_cal'], '.')\n",
    "plt.ylim(reversed(plt.ylim()))\n",
    "plt.title('REPLACE THIS TEXT WITH MEANINGFUL TITLE')\n",
    "plt.ylabel('calibrated magnitude, r filter')\n",
    "plt.xlabel('barycentric julian date')\n",
    "plt.grid()"
   ]
  },
  {
   "cell_type": "code",
   "execution_count": null,
   "metadata": {},
   "outputs": [],
   "source": [
    "object_alone['color_term']"
   ]
  }
 ],
 "metadata": {
  "kernelspec": {
   "display_name": "Python 3",
   "language": "python",
   "name": "python3"
  },
  "language_info": {
   "codemirror_mode": {
    "name": "ipython",
    "version": 3
   },
   "file_extension": ".py",
   "mimetype": "text/x-python",
   "name": "python",
   "nbconvert_exporter": "python",
   "pygments_lexer": "ipython3",
   "version": "3.6.4"
  }
 },
 "nbformat": 4,
 "nbformat_minor": 2
}
