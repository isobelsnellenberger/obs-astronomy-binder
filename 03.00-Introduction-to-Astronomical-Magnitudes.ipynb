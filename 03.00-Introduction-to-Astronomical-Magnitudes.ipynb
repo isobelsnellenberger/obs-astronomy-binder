{
 "cells": [
  {
   "cell_type": "markdown",
   "metadata": {},
   "source": [
    "# Introduction to astronomical magnitudes\n",
    "\n",
    "This will be a relatively non-technical introduction to magnitudes. Rather than focusing, for now, on a precise definition of flux density followed by integration over passbands to define fluxes in a band, and then defining magnitudes in terms of those, this will argue for a reasonable definition of magnitude in terms of counts from an image.\n",
    "\n",
    "The more technical points will be addressed in a separate document."
   ]
  },
  {
   "cell_type": "markdown",
   "metadata": {},
   "source": [
    "## Flux\n",
    "\n",
    "Conceptually, the measured flux is the amount of energy received per unit time per unit area of the detector. This suggests that the calculation of flux from quantities that can be measured directly from an image should be straightforward."
   ]
  },
  {
   "cell_type": "markdown",
   "metadata": {},
   "source": [
    "### Meauring flux from an image\n",
    "\n",
    "It is helpful in what follows to think about a single pixel in an image. Imagine one could measure the amount of energy deposited in a single pixel, and call that energy $E_{pix}$ (that cannot be measured directly, but imagine it could). \n",
    "\n",
    "If the area of a single pixel is $A_{pix}$ (this is known, provided by the camera manufacturer), and the exposure time is $t_{exp}$, then the flux, $f$, is\n",
    "\n",
    "$$\n",
    "f = \\frac{E_{pix}}{A_{pix} t_{exp}}\n",
    "$$\n",
    "\n",
    "There is just one problem; the energy deposited in a pixel cannot be measured by a CCD."
   ]
  },
  {
   "cell_type": "markdown",
   "metadata": {},
   "source": [
    "### Energy and photon counts\n",
    "\n",
    "If every single photon entering the detector was exactly the same wavelength then we *could* calculate the energy deposited in a single pixel. The energy of each photon coming in would be, say $E_{photon}$, (remember, photon energy is directly proportional to frequency, and inversely proportional to the wavelength). If the number of photons is $N_{phot}$, then the energy deposited in one pixel would be \n",
    "\n",
    "$$\n",
    "E_{pix} = N_{photons} E_{photon}.\n",
    "$$\n",
    "\n",
    "The number of photons is essentially directly measurable from a **calibrated** image. The number of counts (which is what one gets from the image), $N_{count}$ is related to the number of photons by the camera's gain, $g$, so that\n",
    "\n",
    "$$\n",
    "N_{photons} = g N_{counts}.\n",
    "$$\n",
    "\n",
    "That still leaves one key factor to resolve: photon energy."
   ]
  },
  {
   "cell_type": "markdown",
   "metadata": {},
   "source": [
    "### Photon energy\n",
    "#### Or, why one uses filters\n",
    "\n",
    "In principle, one could argue that the appropriate energy to use would be an \"average\" energy of some sort. If every star was identical that might work, in principle...but they are not. High temperature stars produce photons that are, on average, higher energy than the average photon produced by a lower temperature star.\n",
    "\n",
    "One way to mitigate that is to take images through a filter that passes only a (relatively) narrow range of wavelengths. There will still be differences from star-to-star (or asteroid or other objet), but these differences will be much smaller if one looks only at a narrow section of the spectrum.\n",
    "\n",
    "This difference in spectrum between stars of different temperatures still leads to differences in stellar fluxes measured through filters, which is in part what motivates making color corrections to those fluxes.\n",
    "\n",
    "For the rest of the discussion, assume that:\n",
    "\n",
    "1. A filter is being used when taking the image.\n",
    "1. All energies, and hence, all fluxes, and all magnitudes, are also for a specific filter (e.g. one of BVRI, or griz, or some other filter).\n"
   ]
  },
  {
   "cell_type": "markdown",
   "metadata": {},
   "source": [
    "## Flux and images recap\n",
    "\n",
    "The measured flux is related to the counts in an image, *when the observations are done through a filter*, by\n",
    "\n",
    "$$\n",
    "f = \\frac{g N_{counts} E_{photon, filter}}{A_{pix} t_{exp}}.\n",
    "$$\n"
   ]
  },
  {
   "cell_type": "markdown",
   "metadata": {},
   "source": [
    "# Magnitudes and flux ratios\n"
   ]
  },
  {
   "cell_type": "markdown",
   "metadata": {},
   "source": [
    "## A (very) brief history of magnitudes\n",
    "\n",
    "### Hipparchus\n",
    "\n",
    "The astronomical magnitude system was first defined by [Hipparchus](https://en.wikipedia.org/wiki/Hipparchus) around 150 BC. He classified the brightest sources as magnitude 1, the next brightest group as magnitude, and so on down to magnitude 6, the faintest stars he could see.\n",
    "\n",
    "This classification scheme has two immediate consequences:\n",
    "\n",
    "1. The magnitude system is \"*backwards*\" in the sense that larger magnitude indicates a dimmer object.\n",
    "2. The magnitude system is logarithmic. Hipparcos did not deliberately choose a logarithmic scale, but the human eye is roughly logarithmic in its response to light, so the magnitude system ended up being logarithmic.\n",
    "\n",
    "The difference in flux between the brightest (magnitude 1) stars and dimmest (magnitude 6) stars turned out to be roughly a factor of 100.\n",
    "\n",
    "### Pogson\n",
    "\n",
    "[Norman R. Pogson](https://en.wikipedia.org/wiki/N._R._Pogson), working in the mid-1800s, standardized the magnitude system by defining a magnitude difference of 5 to be *exactly* a flux change by a factor of 100 by introducing this relationship, which defines magnitude difference in terms of flux:\n",
    "\n",
    "$$\n",
    "m_1 - m_2 \\equiv -2.5 \\log_{10}\\left(\\frac{f_1}{f_2}\\right)\n",
    "$$\n",
    "\n",
    "He also set the zero point of the magnitude system by defining the magnitude of Polaris to be exactly 2. It was later discovered that Polaris is a variable star, and the zero point was changed to a set of stars of spectral type A0, including Vega. \n",
    "\n",
    "The details of the zero point are omitted here because calculating magnitudes that are consistent with those from other observatories is done today through extensive catalogs of reference stars."
   ]
  },
  {
   "cell_type": "markdown",
   "metadata": {},
   "source": [
    "## Magnitude and counts\n",
    "\n",
    "It is clear from the definition of magnitude above that in astronomy we are always really, at some level, talking about magnitude *differences*, or, if you prefer, flux *ratios*. That said, a sensible definition of magnitude can be made based on counts in an image and exposure time.\n",
    "\n",
    "**Reminder:** in everything that follows it is assumed that the flux is through a filter, which narrows the range of wavelengths (and hence photon energies) that reach the detector."
   ]
  },
  {
   "cell_type": "markdown",
   "metadata": {},
   "source": [
    "### Single pixel case\n",
    "\n",
    "As above, we begin by imagining a case where all of the light from a star falls on a single pixel. This is conceptually easier and straightforward, in principle, to extend to the more general case.\n",
    "\n",
    "Consider two stars in an image. Star 1 has counts $N_{counts,1}$ in an exposure of length $t_{exp,1}$, and star 2 has counts $N_{counts,2}$ in an exposure of length $t_{exp,2}$. For two stars in the same image the exposure time will be the same, but for the sake of argument we allow for the possibility that they are different.\n",
    "\n",
    "The flux from star 1 is\n",
    "\n",
    "$$\n",
    "f_1 = \\frac{g N_{counts,1} E_{photon, filter}}{A_{pix} t_{exp,1}}\n",
    "$$\n",
    "\n",
    "while the flux from star 2 is\n",
    "\n",
    "$$\n",
    "f_2 = \\frac{g N_{counts,2} E_{photon, filter}}{A_{pix} t_{exp,2}}\n",
    "$$\n",
    "\n",
    "The magnitude difference between these stars is, according to Pogson,\n",
    "\n",
    "$$\n",
    "m_1 - m_2 = -2.5 \\log_{10}\\left(\\frac{f_1}{f_2}\\right),\n",
    "$$\n",
    "\n",
    "so to find the magnitude difference we need to find the flux ratio $f_1/f_2$. It is given by\n",
    "\n",
    "$$\n",
    "\\begin{eqnarray}\n",
    "\\frac{f_1}{f_2} & = & \\left(\\frac{g N_{counts,1} E_{photon, filter}}{A_{pix} t_{exp,1}}\\right) \n",
    "                    \\left(\\frac{A_{pix} t_{exp,2}}{g N_{counts,2} E_{photon, filter}}\\right) \\\\\n",
    "                & = & \\frac{N_{counts,1}}{t_{exp,1}} \\frac{t_{exp,2}}{N_{counts,2}} \\\\\n",
    "                & = & \\frac{\\left(N_{counts,1}{\\large /}t_{exp,1}\\right)}{\\left(N_{counts,2}{\\large /}t_{exp,2}\\right)}\n",
    "\\end{eqnarray}\n",
    "$$"
   ]
  },
  {
   "cell_type": "markdown",
   "metadata": {},
   "source": [
    "The magnitude difference then becomes \n",
    "$$\n",
    "m_1 - m_2 = -2.5 \\log_{10}\\left(\\frac{\\left(N_{counts,1}{\\large /}t_{exp,1}\\right)}{\\left(N_{counts,2}{\\large /}t_{exp,2}\\right)}\\right)\n",
    "       = -2.5 \\left(\\log_{10} \\frac{N_{counts,1}}{t_{exp,1}} - \\log_{10}\\frac{N_{counts,2}}{t_{exp,2}}\\right),\n",
    "$$\n",
    "which suggests the following definition for *instrumental magnitude*,\n",
    "$$\n",
    "m_{inst} = -2.5 \\log_{10} \\frac{N_{counts}}{t_{exp}} + C,\n",
    "$$\n",
    "\n",
    "where $C$ is an arbitrary constant which we take to be zero for now. The key point is that the instrumental magnitude depends only on simple quantities we can calculate from an image, so it is easy to calculate. \n",
    "\n",
    "Even though it **does not**, even indirectly, indicate the absolute flux detected, instrumental magnitude is very useful because differences of instrumental magnitude should, in principle, be directly related to the flux ratio. The way instrumental magnitude is defined the actual difference in magnitude between these two stars is\n",
    "\n",
    "$$\n",
    "m_1 - m_2 = m_{inst,1} - m_{inst,2}.\n",
    "$$\n",
    "\n",
    "In other words, if one can calculate the difference in instrumental magnitude then one has calculated the magnitude difference."
   ]
  },
  {
   "cell_type": "markdown",
   "metadata": {},
   "source": [
    "### Multiple pixels\n",
    "\n",
    "The generalization of instrumental magnitude to multiple pixels is one of interpretation. If the light of a star is spread over several pixels, then $N_{counts}$ should be the net counts due to photons from the star. In practice there are many ways to estimate the total amount of light coming from a star. The conceptually simplest, aperture photometry, draws a circle around the center of each star (using the same radius circle for every star in the image) and adds up the counts due to the star in the pixels that fall within the circle.\n",
    "\n",
    "Even this simplest case has complications: How does one account for pixels that are partially inside and partially outside the circle? How does one estimate the background due to the sky or other sources?"
   ]
  },
  {
   "cell_type": "markdown",
   "metadata": {},
   "source": [
    "## Important caveats\n",
    "\n",
    "The results above seems to imply that one could calculate a meaningful magnitude difference between stars in two different images. One cannot, typically. So far the effects of the Earth's atmosphere, which can be large, and which change over time, have been ignored. Until those are dealt with in some way, only calculate magnitude differences between stars in a single image.\n",
    "\n",
    "In a single image, the effects of the atmosphere *mostly* cancel out, especially if one is comparing stars of almost the same color. Be aware that to achieve precision better than a few hundreths of a magnitude, color corrections need to be made.\n",
    "\n",
    "In addition, in all of the discussion above, the counts are from a **calibrated** image, and should be *net* counts, subtracting any contributions from the nightime sky or other background sources. "
   ]
  }
 ],
 "metadata": {
  "kernelspec": {
   "display_name": "Python 3",
   "language": "python",
   "name": "python3"
  },
  "language_info": {
   "codemirror_mode": {
    "name": "ipython",
    "version": 3
   },
   "file_extension": ".py",
   "mimetype": "text/x-python",
   "name": "python",
   "nbconvert_exporter": "python",
   "pygments_lexer": "ipython3",
   "version": "3.6.4"
  }
 },
 "nbformat": 4,
 "nbformat_minor": 1
}
