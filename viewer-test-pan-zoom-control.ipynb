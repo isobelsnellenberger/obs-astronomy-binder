{
 "cells": [
  {
   "cell_type": "code",
   "execution_count": null,
   "metadata": {},
   "outputs": [],
   "source": [
    "import numpy as np\n",
    "from astrowidgets import ImageWidget\n",
    "from photutils import centroid_com\n",
    "import ipywidgets as ipw\n",
    "from astropy.stats import sigma_clipped_stats\n",
    "# %matplotlib inline\n",
    "import matplotlib.pyplot as plt\n"
   ]
  },
  {
   "cell_type": "code",
   "execution_count": null,
   "metadata": {},
   "outputs": [],
   "source": [
    "iw = ImageWidget(image_width=500, image_height=500, use_opencv=True)\n",
    "bind_map = iw._viewer.get_bindmap()\n",
    "\n",
    "bind_map.clear_event_map()\n",
    "\n",
    "bind_map.map_event(None, (), 'ms_left', 'pan')\n",
    "bind_map.map_event(None, (), 'pa_pan', 'zoom')\n",
    "#bind_map.map_event(None, (), 'ms_left', 'cursor')\n",
    "# contrast with right mouse\n",
    "bind_map.map_event(None, (), 'ms_right', 'contrast')\n",
    "# shift-right mouse to reset contrast\n",
    "bind_map.map_event(None, ('shift',), 'ms_right', 'contrast_restore')\n",
    "bind_map.map_event(None, ('ctrl',), 'ms_left', 'cursor')\n",
    "\n",
    "# Bind +/- to zoom in/out\n",
    "bind_map.map_event(None, (), 'kp_+', 'zoom_in')\n",
    "bind_map.map_event(None, (), 'kp_=', 'zoom_in')\n",
    "bind_map.map_event(None, (), 'kp_-', 'zoom_out')\n",
    "bind_map.map_event(None, (), 'kp__', 'zoom_out')"
   ]
  },
  {
   "cell_type": "code",
   "execution_count": null,
   "metadata": {},
   "outputs": [],
   "source": [
    "iw._jup_coord.layout.width = '100%'\n",
    "iw.layout.overflow = 'scroll'"
   ]
  },
  {
   "cell_type": "markdown",
   "metadata": {},
   "source": [
    "## In this viewer, pan (move field of view) by left-click-and-drag, zoom by scrolling"
   ]
  },
  {
   "cell_type": "code",
   "execution_count": null,
   "metadata": {},
   "outputs": [],
   "source": [
    "iw"
   ]
  },
  {
   "cell_type": "code",
   "execution_count": null,
   "metadata": {},
   "outputs": [],
   "source": [
    "iw.load_fits('wasp-10-b-S001-R001-C020-r.fit')"
   ]
  },
  {
   "cell_type": "markdown",
   "metadata": {},
   "source": [
    "## New viewer..."
   ]
  },
  {
   "cell_type": "code",
   "execution_count": null,
   "metadata": {},
   "outputs": [],
   "source": [
    "iw2 = ImageWidget(image_width=500, image_height=500, use_opencv=True)\n",
    "bind_map2 = iw2._viewer.get_bindmap()\n",
    "\n",
    "bind_map2.clear_event_map()\n",
    "\n",
    "bind_map2.map_event(None, (), 'pa_pan', 'pan')\n",
    "#bind_map2.map_event(None, (), 'ms_left', 'cursor')\n",
    "# contrast with right mouse\n",
    "bind_map2.map_event(None, (), 'ms_right', 'contrast')\n",
    "# shift-right mouse to reset contrast\n",
    "bind_map2.map_event(None, ('shift',), 'ms_right', 'contrast_restore')\n",
    "bind_map2.map_event(None, ('ctrl',), 'ms_left', 'cursor')\n",
    "\n",
    "# Bind +/- to zoom in/out\n",
    "bind_map2.map_event(None, (), 'kp_+', 'zoom_in')\n",
    "bind_map2.map_event(None, (), 'kp_=', 'zoom_in')\n",
    "bind_map2.map_event(None, (), 'kp_-', 'zoom_out')\n",
    "bind_map2.map_event(None, (), 'kp__', 'zoom_out')"
   ]
  },
  {
   "cell_type": "code",
   "execution_count": null,
   "metadata": {},
   "outputs": [],
   "source": [
    "iw2._jup_coord.layout.width = '100%'\n",
    "iw2.layout.overflow = 'scroll'"
   ]
  },
  {
   "cell_type": "markdown",
   "metadata": {},
   "source": [
    "## Pan by scroll, zoom in/out with +/- keys"
   ]
  },
  {
   "cell_type": "code",
   "execution_count": null,
   "metadata": {},
   "outputs": [],
   "source": [
    "iw2"
   ]
  },
  {
   "cell_type": "code",
   "execution_count": null,
   "metadata": {},
   "outputs": [],
   "source": [
    "iw2.load_fits('wasp-10-b-S001-R001-C020-r.fit')"
   ]
  }
 ],
 "metadata": {
  "kernelspec": {
   "display_name": "Python 3",
   "language": "python",
   "name": "python3"
  },
  "language_info": {
   "codemirror_mode": {
    "name": "ipython",
    "version": 3
   },
   "file_extension": ".py",
   "mimetype": "text/x-python",
   "name": "python",
   "nbconvert_exporter": "python",
   "pygments_lexer": "ipython3",
   "version": "3.6.6"
  }
 },
 "nbformat": 4,
 "nbformat_minor": 2
}
