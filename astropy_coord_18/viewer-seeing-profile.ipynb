{
 "cells": [
  {
   "cell_type": "code",
   "execution_count": null,
   "metadata": {},
   "outputs": [],
   "source": [
    "import numpy as np\n",
    "from astrowidgets import ImageWidget\n",
    "from photutils import centroid_com\n",
    "import ipywidgets as ipw\n",
    "from astropy.stats import sigma_clipped_stats\n",
    "from astropy.table import Table\n",
    "# %matplotlib inline\n",
    "import matplotlib.pyplot as plt\n",
    "#import bqplot.pyplot as bplt"
   ]
  },
  {
   "cell_type": "markdown",
   "metadata": {},
   "source": [
    "## Run all of the cells"
   ]
  },
  {
   "cell_type": "code",
   "execution_count": null,
   "metadata": {},
   "outputs": [],
   "source": [
    "np.seterr(all='ignore')"
   ]
  },
  {
   "cell_type": "code",
   "execution_count": null,
   "metadata": {},
   "outputs": [],
   "source": [
    "iw = ImageWidget(image_width=500, image_height=500, use_opencv=True)"
   ]
  },
  {
   "cell_type": "code",
   "execution_count": null,
   "metadata": {
    "scrolled": false
   },
   "outputs": [],
   "source": [
    "out = ipw.Output()\n",
    "out2 = ipw.Output()\n",
    "out3 = ipw.Output()"
   ]
  },
  {
   "cell_type": "code",
   "execution_count": null,
   "metadata": {},
   "outputs": [],
   "source": [
    "big_box = ipw.HBox()\n",
    "layout = ipw.Layout(width='20ch')\n",
    "hb = ipw.HBox()\n",
    "ap_t = ipw.IntText(description='Aperture', value=5, layout=layout)\n",
    "in_t = ipw.IntText(description='Inner annulus', value=10, layout=layout)\n",
    "out_t = ipw.IntText(description='Outer annulus', value=20, layout=layout)\n",
    "hb.children = [ap_t, in_t, out_t]\n",
    "\n",
    "lil_box = ipw.VBox()\n",
    "lil_box.children = [out, out2, out3]\n",
    "big_box.children = [iw, lil_box]\n",
    "big_box.layout.width = '100%'\n",
    "big_box.layout.justify_content = 'space-between'\n",
    "big_box"
   ]
  },
  {
   "cell_type": "code",
   "execution_count": null,
   "metadata": {},
   "outputs": [],
   "source": [
    "iw._jup_coord.layout.width = '100%'\n",
    "iw.layout.overflow = 'scroll'"
   ]
  },
  {
   "cell_type": "code",
   "execution_count": null,
   "metadata": {},
   "outputs": [],
   "source": [
    "iw.load_fits('kelt-16-S001-R001-C100-r.fit')"
   ]
  },
  {
   "cell_type": "code",
   "execution_count": null,
   "metadata": {},
   "outputs": [],
   "source": [
    "bind_map = iw._viewer.get_bindmap()"
   ]
  },
  {
   "cell_type": "code",
   "execution_count": null,
   "metadata": {
    "scrolled": false
   },
   "outputs": [],
   "source": [
    "#bind_map.eventmap"
   ]
  },
  {
   "cell_type": "code",
   "execution_count": null,
   "metadata": {},
   "outputs": [],
   "source": [
    "bind_map.clear_event_map()"
   ]
  },
  {
   "cell_type": "code",
   "execution_count": null,
   "metadata": {},
   "outputs": [],
   "source": [
    "bind_map.map_event(None, (), 'ms_left', 'pan')\n",
    "bind_map.map_event(None, (), 'pa_pan', 'zoom')\n",
    "#bind_map.map_event(None, (), 'ms_left', 'cursor')\n",
    "# contrast with right mouse\n",
    "bind_map.map_event(None, (), 'ms_right', 'contrast')\n",
    "# shift-right mouse to reset contrast\n",
    "bind_map.map_event(None, ('shift',), 'ms_right', 'contrast_restore')\n",
    "bind_map.map_event(None, ('ctrl',), 'ms_left', 'cursor')\n",
    "\n",
    "# Bind +/- to zoom in/out\n",
    "bind_map.map_event(None, (), 'kp_+', 'zoom_in')\n",
    "bind_map.map_event(None, (), 'kp_=', 'zoom_in')\n",
    "bind_map.map_event(None, (), 'kp_-', 'zoom_out')\n",
    "bind_map.map_event(None, (), 'kp__', 'zoom_out')\n",
    "\n",
    "# Bind arrow keys to panning\n",
    "# There is NOT a typo below. I want the keys to move the image in the \n",
    "# direction of the arrow\n",
    "bind_map.map_event(None, (), 'kp_left', 'pan_right')\n",
    "bind_map.map_event(None, (), 'kp_right', 'pan_left')\n",
    "bind_map.map_event(None, (), 'kp_up', 'pan_down')\n",
    "bind_map.map_event(None, (), 'kp_down', 'pan_up')\n"
   ]
  },
  {
   "cell_type": "code",
   "execution_count": null,
   "metadata": {
    "scrolled": false
   },
   "outputs": [],
   "source": [
    "# bind_map.eventmap"
   ]
  },
  {
   "cell_type": "code",
   "execution_count": null,
   "metadata": {},
   "outputs": [],
   "source": [
    "#men, med, std = sigma_clipped_stats(iw._viewer.get_image().get_data(), sigma=5, iters=1)\n"
   ]
  },
  {
   "cell_type": "code",
   "execution_count": null,
   "metadata": {},
   "outputs": [],
   "source": [
    "#men, med, std"
   ]
  },
  {
   "cell_type": "code",
   "execution_count": null,
   "metadata": {},
   "outputs": [],
   "source": [
    "def show_event(viewer, event, datax, datay):\n",
    "    \n",
    "    i = iw._viewer.get_image()\n",
    "    data = i.get_data()\n",
    "    pad = 15\n",
    "    x = int(np.floor(event.data_x))\n",
    "    y = int(np.floor(event.data_y))\n",
    "    cnt = 0\n",
    "    sub_data = data[y - pad:y + pad, x - pad:x + pad] #- med\n",
    "    _, sub_med, _ = sigma_clipped_stats(sub_data)\n",
    "    #sub_med = 0\n",
    "    foo, moo = centroid_com(sub_data - sub_med)\n",
    "    cenx = foo + x - pad\n",
    "    ceny = moo + y - pad\n",
    "    cen = np.array([foo + x - pad, moo + y - pad])\n",
    "    ceno = np.array([-100, -100])\n",
    "    while cnt <= 10 and (np.abs(np.array([foo, moo]) - pad).max() >3 or np.abs(cen - ceno).max() > 0.1):\n",
    "       # print(cnt, foo, moo)\n",
    "        x = int(np.floor(foo)) + x - pad\n",
    "        y = int(np.floor(moo)) + y - pad\n",
    "        sub_data = data[y - pad:y + pad, x - pad:x + pad] #- med\n",
    "        _, sub_med, _ = sigma_clipped_stats(sub_data)\n",
    "        #sub_med = 0\n",
    "        mask = (sub_data - sub_med) < 0\n",
    "        foo, moo = centroid_com(sub_data - sub_med, mask=mask)\n",
    "        ceno = cen\n",
    "        cen = np.array([foo + x - pad, moo + y - pad])\n",
    "#             print(cen)\n",
    "#             print(cen - ceno)\n",
    "        cnt += 1\n",
    "\n",
    "    iw.add_markers(Table(data=[[cen[0]], [cen[1]]], names=['x', 'y']), pixel_coords_offset=0)\n",
    "    #print(foo, moo)\n",
    "    yd, xd = np.indices((sub_data.shape))\n",
    "    r = np.sqrt((xd - foo)**2 + (yd - moo)**2)\n",
    "    r = r.astype(np.int)\n",
    "    tbin = np.bincount(r.ravel(), sub_data.ravel())\n",
    "    nr = np.bincount(r.ravel())\n",
    "    radialprofile = tbin / nr\n",
    "    out.clear_output(wait=True)\n",
    "    with out:\n",
    "       # print(dir(event))\n",
    "        #print(event.data_x, event.data_y)\n",
    "        plt.clf()\n",
    "        #sub_med += med\n",
    "        plt.plot(range(len(radialprofile)), (radialprofile - sub_med) / (radialprofile.max() - sub_med))\n",
    "        plt.scatter(r.flatten(), (sub_data.flatten() - sub_med) / (radialprofile.max() - sub_med))\n",
    "        plt.xlim(0, 20)\n",
    "        plt.ylim(-0.5, 1.5)\n",
    "        plt.grid()\n",
    "        plt.title('Radial profile - Center: {:9.3f} {:9.3f} ({})'.format(*cen, cnt))\n",
    "        plt.xlabel('Aperture radius')\n",
    "        plt.show()\n",
    "    out2.clear_output(wait=True)\n",
    "    with out2:\n",
    "        tbin2 = np.bincount(r.ravel(), (sub_data - sub_med).ravel())\n",
    "        counts = np.cumsum(tbin2)\n",
    "        mag_diff = -2.5 * np.log10(counts/counts.max())\n",
    "        plt.plot(range(len(radialprofile)), counts)\n",
    "        plt.xlim(0, 20)\n",
    "        #plt.ylim(0.2, 0)\n",
    "        plt.grid()\n",
    "        sub_blot = sub_data.copy()\n",
    "        sub_blot[10:30, 10:30] = np.nan\n",
    "        sub_std = np.nanstd(sub_blot)\n",
    "        plt.title('Net counts in aperture std {:.2f} med {:.2f}'.format(sub_std, sub_med))\n",
    "        sub_pois = (sub_data - sub_med)\n",
    "        e_sky = np.sqrt(sub_med)\n",
    "        rn = 10\n",
    "        sub_noise_sq = np.sqrt(sub_pois ** 2 + sub_std ** 2) ** 2\n",
    "        nbin = np.sqrt(np.bincount(r.ravel(), (sub_noise_sq).ravel()))\n",
    "        plt.xlabel('Aperture radius')\n",
    "        plt.show()\n",
    "    out3.clear_output(wait=True)\n",
    "    with out3:\n",
    "        poisson = np.sqrt(np.cumsum(tbin2))\n",
    "        error = np.sqrt(poisson ** 2 + np.cumsum(nr) * (e_sky ** 2 + rn ** 2))\n",
    "        snr = np.cumsum(tbin2) / error\n",
    "        snr_max = snr[:20].max()\n",
    "        plt.plot(range(len(radialprofile)), snr)\n",
    "        plt.title('Signal to noise ratio'.format(snr.max()))\n",
    "        plt.xlim(0, 20)\n",
    "        #plt.ylim(0, 2)\n",
    "        plt.xlabel('Aperture radius')\n",
    "        plt.grid()\n",
    "        plt.show()\n",
    "\n",
    "            \n",
    "gvc = iw._viewer.get_canvas()\n",
    "# gvc.add_callback('ms_left-my_custom_event-down', show_event)\n",
    "gvc.add_callback('cursor-down', show_event)\n"
   ]
  },
  {
   "cell_type": "code",
   "execution_count": null,
   "metadata": {},
   "outputs": [],
   "source": []
  },
  {
   "cell_type": "code",
   "execution_count": null,
   "metadata": {},
   "outputs": [],
   "source": []
  },
  {
   "cell_type": "code",
   "execution_count": null,
   "metadata": {},
   "outputs": [],
   "source": []
  }
 ],
 "metadata": {
  "kernelspec": {
   "display_name": "Python 3",
   "language": "python",
   "name": "python3"
  },
  "language_info": {
   "codemirror_mode": {
    "name": "ipython",
    "version": 3
   },
   "file_extension": ".py",
   "mimetype": "text/x-python",
   "name": "python",
   "nbconvert_exporter": "python",
   "pygments_lexer": "ipython3",
   "version": "3.6.4"
  }
 },
 "nbformat": 4,
 "nbformat_minor": 2
}
