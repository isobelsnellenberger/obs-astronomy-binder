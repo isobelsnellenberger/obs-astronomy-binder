{
 "cells": [
  {
   "cell_type": "code",
   "execution_count": 1,
   "metadata": {},
   "outputs": [],
   "source": [
    "%matplotlib inline\n",
    "import matplotlib.pyplot as plt\n",
    "\n",
    "import numpy as np\n",
    "from astropy import units as u\n",
    "from astropy.table import Table \n",
    "from astropy.nddata import CCDData\n",
    "from astropy.coordinates import SkyCoord, EarthLocation\n",
    "from astropy.time import Time, TimeDeltaSec\n",
    "\n",
    "from tqdm import tqdm_notebook\n",
    "\n",
    "import glowing_waffles.differential_photometry as gwdf"
   ]
  },
  {
   "cell_type": "markdown",
   "metadata": {},
   "source": [
    "## This should be any one of the images in your table"
   ]
  },
  {
   "cell_type": "code",
   "execution_count": 2,
   "metadata": {},
   "outputs": [],
   "source": [
    "ccd = CCDData.read('tres-3-010R.fit')"
   ]
  },
  {
   "cell_type": "code",
   "execution_count": 3,
   "metadata": {},
   "outputs": [
    {
     "name": "stderr",
     "output_type": "stream",
     "text": [
      "/Users/mcraig/conda-main/envs/ipyfits/lib/python3.6/site-packages/astropy/table/column.py:965: RuntimeWarning: invalid value encountered in less\n",
      "  return getattr(self.data, op)(other)\n"
     ]
    }
   ],
   "source": [
    "apass, apass_x, apass_y, apass_for_transform, in_apass_x, in_apass_y = gwdf.find_apass_stars(ccd)\n",
    "vsx, vsx_x, vsx_y, vsx_names = gwdf.find_known_variables(ccd)\n",
    "\n",
    "apass_all_coords = SkyCoord(apass['RAJ2000'], apass['DEJ2000'], unit='deg')\n",
    "apass_for_transform_coords = SkyCoord(apass_for_transform['RAJ2000'], apass_for_transform['DEJ2000'], unit='deg')"
   ]
  },
  {
   "cell_type": "code",
   "execution_count": 4,
   "metadata": {},
   "outputs": [
    {
     "data": {
      "text/plain": [
       "['_q',\n",
       " 'recno',\n",
       " 'RAJ2000',\n",
       " 'DEJ2000',\n",
       " 'e_RAJ2000',\n",
       " 'e_DEJ2000',\n",
       " 'Field',\n",
       " 'nobs',\n",
       " 'mobs',\n",
       " 'B-V',\n",
       " 'e_B-V',\n",
       " 'Vmag',\n",
       " 'e_Vmag',\n",
       " 'Bmag',\n",
       " 'e_Bmag',\n",
       " 'g_mag',\n",
       " 'e_g_mag',\n",
       " 'r_mag',\n",
       " 'e_r_mag',\n",
       " 'i_mag',\n",
       " 'e_i_mag']"
      ]
     },
     "execution_count": 4,
     "metadata": {},
     "output_type": "execute_result"
    }
   ],
   "source": [
    "apass.colnames"
   ]
  },
  {
   "cell_type": "code",
   "execution_count": 5,
   "metadata": {},
   "outputs": [],
   "source": [
    "apass['R_mag'] = gwdf.filter_transform(apass, 'R', g='g_mag', r='r_mag', i='i_mag', transform='ivezic')"
   ]
  },
  {
   "cell_type": "code",
   "execution_count": 6,
   "metadata": {},
   "outputs": [],
   "source": [
    "apass_for_transform['R_mag'] = gwdf.filter_transform(apass_for_transform, 'R', g='g_mag', r='r_mag', i='i_mag', transform='ivezic')"
   ]
  },
  {
   "cell_type": "markdown",
   "metadata": {},
   "source": [
    "## Change the file name below to match the one your magnitudes are in"
   ]
  },
  {
   "cell_type": "code",
   "execution_count": 7,
   "metadata": {},
   "outputs": [],
   "source": [
    "input_mags = Table.read('tres-3-rearranged.fits')\n",
    "\n",
    "input_mags['mag_inst_R'][np.isinf(input_mags['mag_inst_R'])] = np.nan"
   ]
  },
  {
   "cell_type": "markdown",
   "metadata": {},
   "source": [
    "### Get our \"star_id\" for Kelt-16"
   ]
  },
  {
   "cell_type": "code",
   "execution_count": 8,
   "metadata": {},
   "outputs": [
    {
     "data": {
      "text/plain": [
       "1"
      ]
     },
     "execution_count": 8,
     "metadata": {},
     "output_type": "execute_result"
    }
   ],
   "source": [
    "kelt16_coords = SkyCoord.from_name('tres-3')\n",
    "\n",
    "input_coords = SkyCoord(input_mags['RA'], input_mags['Dec'])\n",
    "idx, d2d, d3d = kelt16_coords.match_to_catalog_sky(input_coords)\n",
    "\n",
    "kelt_id = input_mags['star_id'][idx]\n",
    "kelt_id"
   ]
  },
  {
   "cell_type": "code",
   "execution_count": 9,
   "metadata": {},
   "outputs": [],
   "source": [
    "input_mags['mag_cal'] = np.zeros(len(input_mags))\n",
    "input_mags['zero_point'] = np.zeros(len(input_mags))\n",
    "input_mags['color_term'] = np.zeros(len(input_mags))\n",
    "input_mags['t_start_tdb'] = np.zeros(len(input_mags))\n",
    "input_mags['t_mid_tdb'] = np.zeros(len(input_mags))\n",
    "\n",
    "mags_grouped = input_mags.group_by('file')"
   ]
  },
  {
   "cell_type": "code",
   "execution_count": 10,
   "metadata": {},
   "outputs": [],
   "source": [
    "feder = EarthLocation(\"263.54672d\", \"46.86678d\")"
   ]
  },
  {
   "cell_type": "code",
   "execution_count": 11,
   "metadata": {
    "scrolled": false
   },
   "outputs": [
    {
     "data": {
      "application/vnd.jupyter.widget-view+json": {
       "model_id": "0e98b88f01f14c5bb0c877155d61e352",
       "version_major": 2,
       "version_minor": 0
      },
      "text/html": [
       "<p>Failed to display Jupyter Widget of type <code>HBox</code>.</p>\n",
       "<p>\n",
       "  If you're reading this message in the Jupyter Notebook or JupyterLab Notebook, it may mean\n",
       "  that the widgets JavaScript is still loading. If this message persists, it\n",
       "  likely means that the widgets JavaScript library is either not installed or\n",
       "  not enabled. See the <a href=\"https://ipywidgets.readthedocs.io/en/stable/user_install.html\">Jupyter\n",
       "  Widgets Documentation</a> for setup instructions.\n",
       "</p>\n",
       "<p>\n",
       "  If you're reading this message in another frontend (for example, a static\n",
       "  rendering on GitHub or <a href=\"https://nbviewer.jupyter.org/\">NBViewer</a>),\n",
       "  it may mean that your frontend doesn't currently support widgets.\n",
       "</p>\n"
      ],
      "text/plain": [
       "HBox(children=(IntProgress(value=1, bar_style='info', max=1), HTML(value='')))"
      ]
     },
     "metadata": {},
     "output_type": "display_data"
    },
    {
     "name": "stdout",
     "output_type": "stream",
     "text": [
      "\n"
     ]
    }
   ],
   "source": [
    "for idx, our_mags in tqdm_notebook(enumerate(mags_grouped.groups)):\n",
    "    new_mags, matches, transform = gwdf.transform_magnitudes(our_mags, apass, apass_for_transform, \n",
    "                                                    faintest_mag_for_transform=16,\n",
    "                                                    input_mag_colum='mag_inst_R',\n",
    "                                                    catalog_mag_column='R_mag',\n",
    "                                                    catalog_color_column='B-V',\n",
    "                                                    gain=1.47\n",
    "                                                   )\n",
    "    our_mags['mag_cal'][matches] = new_mags.data.filled(np.nan)\n",
    "    our_mags['mag_cal'][~matches] = np.nan\n",
    "    our_mags['zero_point'] = transform.parameters[0]\n",
    "    our_mags['color_term'] = transform.parameters[1]\n",
    "    t_utc = Time(our_mags['date-obs'], scale='utc', location=feder)\n",
    "    our_coords = SkyCoord(our_mags['RA'], our_mags['Dec'])\n",
    "    delta_t_tdb = t_utc.light_travel_time(our_coords)\n",
    "    t_tdb = t_utc.tdb + delta_t_tdb\n",
    "    t_tdb_mid = t_tdb + our_mags['exposure'] / 2\n",
    "    our_mags['t_start_tdb'][:] = t_tdb.jd\n",
    "    our_mags['t_mid_tdb'][:] = t_tdb_mid.jd"
   ]
  },
  {
   "cell_type": "code",
   "execution_count": 12,
   "metadata": {
    "scrolled": false
   },
   "outputs": [
    {
     "data": {
      "text/html": [
       "&lt;Column name=&apos;date-obs&apos; dtype=&apos;bytes23&apos; length=111&gt;\n",
       "<table>\n",
       "<tr><td>2016-05-18T08:03:50.400</td></tr>\n",
       "<tr><td>2016-05-18T08:03:50.400</td></tr>\n",
       "<tr><td>2016-05-18T08:03:50.400</td></tr>\n",
       "<tr><td>2016-05-18T08:03:50.400</td></tr>\n",
       "<tr><td>2016-05-18T08:03:50.400</td></tr>\n",
       "<tr><td>2016-05-18T08:03:50.400</td></tr>\n",
       "<tr><td>2016-05-18T08:03:50.400</td></tr>\n",
       "<tr><td>2016-05-18T08:03:50.400</td></tr>\n",
       "<tr><td>2016-05-18T08:03:50.400</td></tr>\n",
       "<tr><td>2016-05-18T08:03:50.400</td></tr>\n",
       "<tr><td>2016-05-18T08:03:50.400</td></tr>\n",
       "<tr><td>2016-05-18T08:03:50.400</td></tr>\n",
       "<tr><td>...</td></tr>\n",
       "<tr><td>2016-05-18T08:03:50.400</td></tr>\n",
       "<tr><td>2016-05-18T08:03:50.400</td></tr>\n",
       "<tr><td>2016-05-18T08:03:50.400</td></tr>\n",
       "<tr><td>2016-05-18T08:03:50.400</td></tr>\n",
       "<tr><td>2016-05-18T08:03:50.400</td></tr>\n",
       "<tr><td>2016-05-18T08:03:50.400</td></tr>\n",
       "<tr><td>2016-05-18T08:03:50.400</td></tr>\n",
       "<tr><td>2016-05-18T08:03:50.400</td></tr>\n",
       "<tr><td>2016-05-18T08:03:50.400</td></tr>\n",
       "<tr><td>2016-05-18T08:03:50.400</td></tr>\n",
       "<tr><td>2016-05-18T08:03:50.400</td></tr>\n",
       "<tr><td>2016-05-18T08:03:50.400</td></tr>\n",
       "</table>"
      ],
      "text/plain": [
       "<Column name='date-obs' dtype='bytes23' length=111>\n",
       "2016-05-18T08:03:50.400\n",
       "2016-05-18T08:03:50.400\n",
       "2016-05-18T08:03:50.400\n",
       "2016-05-18T08:03:50.400\n",
       "2016-05-18T08:03:50.400\n",
       "2016-05-18T08:03:50.400\n",
       "2016-05-18T08:03:50.400\n",
       "2016-05-18T08:03:50.400\n",
       "2016-05-18T08:03:50.400\n",
       "2016-05-18T08:03:50.400\n",
       "2016-05-18T08:03:50.400\n",
       "2016-05-18T08:03:50.400\n",
       "                    ...\n",
       "2016-05-18T08:03:50.400\n",
       "2016-05-18T08:03:50.400\n",
       "2016-05-18T08:03:50.400\n",
       "2016-05-18T08:03:50.400\n",
       "2016-05-18T08:03:50.400\n",
       "2016-05-18T08:03:50.400\n",
       "2016-05-18T08:03:50.400\n",
       "2016-05-18T08:03:50.400\n",
       "2016-05-18T08:03:50.400\n",
       "2016-05-18T08:03:50.400\n",
       "2016-05-18T08:03:50.400\n",
       "2016-05-18T08:03:50.400"
      ]
     },
     "execution_count": 12,
     "metadata": {},
     "output_type": "execute_result"
    }
   ],
   "source": [
    "our_mags['date-obs']"
   ]
  },
  {
   "cell_type": "code",
   "execution_count": 13,
   "metadata": {},
   "outputs": [
    {
     "data": {
      "text/html": [
       "<i>Table length=721</i>\n",
       "<table id=\"table103363083624\" class=\"table-striped table-bordered table-condensed\">\n",
       "<thead><tr><th>RA</th><th>Dec</th><th>file</th><th>mag_inst_R</th><th>date-obs</th><th>filter</th><th>star_id</th><th>exposure</th><th>night</th><th>airmass</th><th>aperture_net_flux</th><th>snr</th><th>mag_cal</th><th>zero_point</th><th>color_term</th><th>t_start_tdb</th><th>t_mid_tdb</th></tr></thead>\n",
       "<thead><tr><th>deg</th><th>deg</th><th></th><th></th><th></th><th></th><th></th><th>s</th><th></th><th></th><th></th><th></th><th></th><th></th><th></th><th></th><th></th></tr></thead>\n",
       "<thead><tr><th>float64</th><th>float64</th><th>bytes39</th><th>float64</th><th>bytes23</th><th>bytes1</th><th>int64</th><th>float64</th><th>int64</th><th>float64</th><th>float64</th><th>float64</th><th>float64</th><th>float64</th><th>float64</th><th>float64</th><th>float64</th></tr></thead>\n",
       "<tr><td>268.02903</td><td>37.546444</td><td>2011-10-01T02:12:28.800tres-3b-099R.fit</td><td>-8.535718277456496</td><td>2011-10-01T02:12:28.800</td><td>R</td><td>1</td><td>40.0</td><td>55834</td><td>1.146</td><td>103835.8452</td><td>112.3431174161453</td><td>12.359462482896056</td><td>20.948439995227993</td><td>-0.08548833366553472</td><td>2455835.592251655</td><td>2455835.592483137</td></tr>\n",
       "<tr><td>268.02903</td><td>37.546444</td><td>2011-10-01T02:12:28.800tres-3b-100R.fit</td><td>-8.553686476683534</td><td>2011-10-01T02:12:28.800</td><td>R</td><td>1</td><td>40.0</td><td>55834</td><td>1.148</td><td>105568.5562</td><td>113.62159136039696</td><td>12.355344868195271</td><td>20.982529787647856</td><td>-0.11797502455389552</td><td>2455835.592251655</td><td>2455835.592483137</td></tr>\n",
       "<tr><td>268.02903</td><td>37.546444</td><td>2011-10-01T02:13:55.200tres-3b-101R.fit</td><td>-8.531535281695788</td><td>2011-10-01T02:13:55.200</td><td>R</td><td>1</td><td>40.0</td><td>55834</td><td>1.15</td><td>103436.5684</td><td>111.36809774190925</td><td>12.379237687336442</td><td>20.933287893439235</td><td>-0.03613952694446193</td><td>2455835.5932516074</td><td>2455835.593483089</td></tr>\n",
       "<tr><td>268.02903</td><td>37.546444</td><td>2011-10-01T02:15:21.600tres-3b-102R.fit</td><td>-8.519168292918081</td><td>2011-10-01T02:15:21.600</td><td>R</td><td>1</td><td>40.0</td><td>55834</td><td>1.152</td><td>102265.0673</td><td>110.15977664099607</td><td>12.385118270207187</td><td>20.970385201004163</td><td>-0.10609732793485173</td><td>2455835.5942515596</td><td>2455835.594483041</td></tr>\n",
       "<tr><td>268.02903</td><td>37.546444</td><td>2011-10-01T02:15:21.600tres-3b-103R.fit</td><td>-8.517854672210145</td><td>2011-10-01T02:15:21.600</td><td>R</td><td>1</td><td>40.0</td><td>55834</td><td>1.153</td><td>102141.4127</td><td>110.19755719108305</td><td>12.404329604513915</td><td>20.963039103293617</td><td>-0.06557757007301512</td><td>2455835.5942515596</td><td>2455835.594483041</td></tr>\n",
       "<tr><td>268.02903</td><td>37.546444</td><td>2011-10-01T02:16:48.000tres-3b-104R.fit</td><td>-8.535422953120825</td><td>2011-10-01T02:16:48.000</td><td>R</td><td>1</td><td>40.0</td><td>55834</td><td>1.155</td><td>103807.6053</td><td>111.89871491477737</td><td>12.37995916288505</td><td>20.9648203914027</td><td>-0.07935517116681921</td><td>2455835.5952515122</td><td>2455835.5954829934</td></tr>\n",
       "<tr><td>268.02903</td><td>37.546444</td><td>2011-10-01T02:18:14.400tres-3b-105R.fit</td><td>-8.532859967696517</td><td>2011-10-01T02:18:14.400</td><td>R</td><td>1</td><td>40.0</td><td>55834</td><td>1.157</td><td>103562.8464</td><td>111.25355129950562</td><td>12.383507005908125</td><td>20.974614930983268</td><td>-0.09349591074696098</td><td>2455835.5962514644</td><td>2455835.596482946</td></tr>\n",
       "<tr><td>268.02903</td><td>37.546444</td><td>2011-10-01T02:18:14.400tres-3b-106R.fit</td><td>-8.52422127159971</td><td>2011-10-01T02:18:14.400</td><td>R</td><td>1</td><td>40.0</td><td>55834</td><td>1.159</td><td>102742.1146</td><td>110.8349996555383</td><td>12.385814614386767</td><td>20.95305996399799</td><td>-0.06905951065361024</td><td>2455835.5962514644</td><td>2455835.596482946</td></tr>\n",
       "<tr><td>268.02903</td><td>37.546444</td><td>2011-10-01T02:19:40.800tres-3b-107R.fit</td><td>-8.519043913262124</td><td>2011-10-01T02:19:40.800</td><td>R</td><td>1</td><td>40.0</td><td>55834</td><td>1.161</td><td>102253.3527</td><td>110.19340220829174</td><td>12.369802655499342</td><td>20.935486748812792</td><td>-0.0748638517238075</td><td>2455835.5972514166</td><td>2455835.5974828983</td></tr>\n",
       "<tr><td>...</td><td>...</td><td>...</td><td>...</td><td>...</td><td>...</td><td>...</td><td>...</td><td>...</td><td>...</td><td>...</td><td>...</td><td>...</td><td>...</td><td>...</td><td>...</td><td>...</td></tr>\n",
       "<tr><td>268.02903</td><td>37.546444</td><td>2016-05-18T07:48:00.000tres-3-052R.fit</td><td>-8.40693287899872</td><td>2016-05-18T07:48:00.000</td><td>R</td><td>1</td><td>90.0</td><td>57525</td><td>1.024</td><td>207498.8342</td><td>201.8031379935996</td><td>12.385023568528378</td><td>20.870489411518264</td><td>-0.12605612503211694</td><td>2457526.828256932</td><td>2457526.8287777654</td></tr>\n",
       "<tr><td>268.02903</td><td>37.546444</td><td>2016-05-18T07:49:26.400tres-3-053R.fit</td><td>-8.401892152603843</td><td>2016-05-18T07:49:26.400</td><td>R</td><td>1</td><td>90.0</td><td>57525</td><td>1.024</td><td>206537.7162</td><td>201.12657485108113</td><td>12.384472661974687</td><td>20.84642651522064</td><td>-0.09640722196733245</td><td>2457526.8292569555</td><td>2457526.8297777893</td></tr>\n",
       "<tr><td>268.02903</td><td>37.546444</td><td>2016-05-18T07:50:52.800tres-3-054R.fit</td><td>-8.39954787065378</td><td>2016-05-18T07:50:52.800</td><td>R</td><td>1</td><td>90.0</td><td>57525</td><td>1.023</td><td>206092.2486</td><td>200.79741943884298</td><td>12.388347191216312</td><td>20.869419813950532</td><td>-0.13085835084139552</td><td>2457526.8302569794</td><td>2457526.8307778127</td></tr>\n",
       "<tr><td>268.02903</td><td>37.546444</td><td>2016-05-18T07:53:45.600tres-3-055R.fit</td><td>-8.410134437951008</td><td>2016-05-18T07:53:45.600</td><td>R</td><td>1</td><td>90.0</td><td>57525</td><td>1.022</td><td>208111.5983</td><td>202.1745468253381</td><td>12.382009652002981</td><td>20.81526033581981</td><td>-0.03710472530172625</td><td>2457526.8322570273</td><td>2457526.8327778606</td></tr>\n",
       "<tr><td>268.02903</td><td>37.546444</td><td>2016-05-18T07:55:12.000tres-3-056R.fit</td><td>-8.405654288331302</td><td>2016-05-18T07:55:12.000</td><td>R</td><td>1</td><td>90.0</td><td>57525</td><td>1.021</td><td>207254.6221</td><td>202.11262567678878</td><td>12.386620777802172</td><td>20.808550144191717</td><td>-0.026123718710483985</td><td>2457526.833257051</td><td>2457526.8337778845</td></tr>\n",
       "<tr><td>268.02903</td><td>37.546444</td><td>2016-05-18T07:56:38.400tres-3-057R.fit</td><td>-8.402228437496088</td><td>2016-05-18T07:56:38.400</td><td>R</td><td>1</td><td>90.0</td><td>57525</td><td>1.021</td><td>206601.697</td><td>201.56998567251136</td><td>12.3820138649861</td><td>20.812916407664478</td><td>-0.04602585022371452</td><td>2457526.834257075</td><td>2457526.8347779084</td></tr>\n",
       "<tr><td>268.02903</td><td>37.546444</td><td>2016-05-18T07:58:04.800tres-3-058R.fit</td><td>-8.395181605779332</td><td>2016-05-18T07:58:04.800</td><td>R</td><td>1</td><td>90.0</td><td>57525</td><td>1.02</td><td>205265.1173</td><td>200.20696325087104</td><td>12.38841478301828</td><td>20.822201940964312</td><td>-0.061967174740906586</td><td>2457526.835257099</td><td>2457526.8357779323</td></tr>\n",
       "<tr><td>268.02903</td><td>37.546444</td><td>2016-05-18T08:00:57.600tres-3-059R.fit</td><td>-8.394243782585697</td><td>2016-05-18T08:00:57.600</td><td>R</td><td>1</td><td>90.0</td><td>57525</td><td>1.019</td><td>205087.8926</td><td>199.92565407070208</td><td>12.388227283333194</td><td>20.825246369044272</td><td>-0.06866019158032517</td><td>2457526.8372571464</td><td>2457526.8377779797</td></tr>\n",
       "<tr><td>268.02903</td><td>37.546444</td><td>2016-05-18T08:02:24.000tres-3-060R.fit</td><td>-8.392476736193608</td><td>2016-05-18T08:02:24.000</td><td>R</td><td>1</td><td>90.0</td><td>57525</td><td>1.019</td><td>204754.3815</td><td>199.72821380927388</td><td>12.390753437599425</td><td>20.80637451021035</td><td>-0.03714981858469354</td><td>2457526.8382571703</td><td>2457526.8387780036</td></tr>\n",
       "<tr><td>268.02903</td><td>37.546444</td><td>2016-05-18T08:03:50.400tres-3-061R.fit</td><td>-8.387734674408357</td><td>2016-05-18T08:03:50.400</td><td>R</td><td>1</td><td>90.0</td><td>57525</td><td>1.018</td><td>203862.0463</td><td>198.43619104248342</td><td>12.40039033774812</td><td>20.803962528792134</td><td>-0.0254213753871686</td><td>2457526.839257194</td><td>2457526.8397780275</td></tr>\n",
       "</table>"
      ],
      "text/plain": [
       "<Table length=721>\n",
       "    RA       Dec    ...    t_start_tdb         t_mid_tdb     \n",
       "   deg       deg    ...                                      \n",
       " float64   float64  ...      float64            float64      \n",
       "--------- --------- ... ------------------ ------------------\n",
       "268.02903 37.546444 ...  2455835.592251655  2455835.592483137\n",
       "268.02903 37.546444 ...  2455835.592251655  2455835.592483137\n",
       "268.02903 37.546444 ... 2455835.5932516074  2455835.593483089\n",
       "268.02903 37.546444 ... 2455835.5942515596  2455835.594483041\n",
       "268.02903 37.546444 ... 2455835.5942515596  2455835.594483041\n",
       "268.02903 37.546444 ... 2455835.5952515122 2455835.5954829934\n",
       "268.02903 37.546444 ... 2455835.5962514644  2455835.596482946\n",
       "268.02903 37.546444 ... 2455835.5962514644  2455835.596482946\n",
       "268.02903 37.546444 ... 2455835.5972514166 2455835.5974828983\n",
       "      ...       ... ...                ...                ...\n",
       "268.02903 37.546444 ...  2457526.828256932 2457526.8287777654\n",
       "268.02903 37.546444 ... 2457526.8292569555 2457526.8297777893\n",
       "268.02903 37.546444 ... 2457526.8302569794 2457526.8307778127\n",
       "268.02903 37.546444 ... 2457526.8322570273 2457526.8327778606\n",
       "268.02903 37.546444 ...  2457526.833257051 2457526.8337778845\n",
       "268.02903 37.546444 ...  2457526.834257075 2457526.8347779084\n",
       "268.02903 37.546444 ...  2457526.835257099 2457526.8357779323\n",
       "268.02903 37.546444 ... 2457526.8372571464 2457526.8377779797\n",
       "268.02903 37.546444 ... 2457526.8382571703 2457526.8387780036\n",
       "268.02903 37.546444 ...  2457526.839257194 2457526.8397780275"
      ]
     },
     "execution_count": 13,
     "metadata": {},
     "output_type": "execute_result"
    }
   ],
   "source": [
    "mags_grouped[mags_grouped['star_id'] == 1]"
   ]
  },
  {
   "cell_type": "code",
   "execution_count": 14,
   "metadata": {},
   "outputs": [],
   "source": [
    "mags_grouped.sort('t_start_tdb')"
   ]
  },
  {
   "cell_type": "markdown",
   "metadata": {},
   "source": [
    "## Identify known variables in the field "
   ]
  },
  {
   "cell_type": "markdown",
   "metadata": {},
   "source": [
    "### First, the list of variables..."
   ]
  },
  {
   "cell_type": "code",
   "execution_count": 15,
   "metadata": {},
   "outputs": [
    {
     "data": {
      "text/html": [
       "<i>Table masked=True length=8</i>\n",
       "<table id=\"table4442764960\" class=\"table-striped table-bordered table-condensed\">\n",
       "<thead><tr><th>_q</th><th>OID</th><th>n_OID</th><th>Name</th><th>V</th><th>Type</th><th>l_max</th><th>max</th><th>u_max</th><th>n_max</th><th>f_min</th><th>l_min</th><th>min</th><th>u_min</th><th>n_min</th><th>l_Period</th><th>Period</th><th>u_Period</th><th>RAJ2000</th><th>DEJ2000</th></tr></thead>\n",
       "<thead><tr><th></th><th></th><th></th><th></th><th></th><th></th><th></th><th>mag</th><th></th><th></th><th></th><th></th><th>mag</th><th></th><th></th><th></th><th>d</th><th></th><th>deg</th><th>deg</th></tr></thead>\n",
       "<thead><tr><th>int32</th><th>int32</th><th>bytes1</th><th>bytes30</th><th>uint8</th><th>bytes30</th><th>bytes1</th><th>float32</th><th>bytes1</th><th>bytes6</th><th>bytes1</th><th>bytes1</th><th>float32</th><th>bytes1</th><th>bytes6</th><th>bytes1</th><th>float64</th><th>bytes3</th><th>float64</th><th>float64</th></tr></thead>\n",
       "<tr><td>1</td><td>138893</td><td>B</td><td>V1300 Her</td><td>0</td><td>EW</td><td></td><td>12.680</td><td></td><td>R1</td><td>(</td><td></td><td>0.371</td><td></td><td>R1</td><td></td><td>0.2963649900</td><td></td><td>267.84750</td><td>37.71819</td></tr>\n",
       "<tr><td>1</td><td>409699</td><td></td><td>GSC 03089-01125</td><td>0</td><td>EA</td><td></td><td>14.540</td><td></td><td>V</td><td>(</td><td></td><td>0.290</td><td></td><td>w</td><td></td><td>1.8930570000</td><td></td><td>267.86417</td><td>37.52539</td></tr>\n",
       "<tr><td>1</td><td>161137</td><td>B</td><td>VSX J175138.3+373909</td><td>0</td><td>DSCT</td><td></td><td>13.500</td><td></td><td>CV</td><td>(</td><td></td><td>0.040</td><td></td><td>CV</td><td></td><td>0.0403800000</td><td></td><td>267.90963</td><td>37.65261</td></tr>\n",
       "<tr><td>1</td><td>161239</td><td>B</td><td>VSX J175159.5+373058</td><td>0</td><td>DSCT</td><td></td><td>14.720</td><td></td><td></td><td>(</td><td></td><td>0.060</td><td></td><td></td><td></td><td>0.0437500000</td><td></td><td>267.99800</td><td>37.51636</td></tr>\n",
       "<tr><td>1</td><td>161237</td><td>V</td><td>V1434 Her</td><td>0</td><td>EP</td><td></td><td>12.410</td><td></td><td>V</td><td>(</td><td></td><td>0.024</td><td></td><td>V</td><td></td><td>1.3061861900</td><td></td><td>268.02925</td><td>37.54617</td></tr>\n",
       "<tr><td>1</td><td>138909</td><td>B</td><td>V1435 Her</td><td>0</td><td>EW/RS</td><td></td><td>13.400</td><td></td><td>CV</td><td></td><td></td><td>13.990</td><td></td><td>CV</td><td></td><td>0.3211940000</td><td></td><td>268.05017</td><td>37.65192</td></tr>\n",
       "<tr><td>1</td><td>161197</td><td>B</td><td>VSX J175244.7+372753</td><td>0</td><td>EW</td><td></td><td>16.020</td><td></td><td>CR</td><td></td><td></td><td>16.290</td><td></td><td>CR</td><td></td><td>0.2751000000</td><td>:</td><td>268.18662</td><td>37.46489</td></tr>\n",
       "<tr><td>1</td><td>285787</td><td>B</td><td>VSX J175254.3+372611</td><td>0</td><td>EA</td><td></td><td>12.400</td><td></td><td>Rc</td><td>(</td><td></td><td>0.030</td><td></td><td>Rc</td><td></td><td>--</td><td></td><td>268.22663</td><td>37.43661</td></tr>\n",
       "</table>"
      ],
      "text/plain": [
       "<Table masked=True length=8>\n",
       "  _q   OID   n_OID          Name         ... u_Period  RAJ2000   DEJ2000 \n",
       "                                         ...             deg       deg   \n",
       "int32 int32  bytes1       bytes30        ...  bytes3   float64   float64 \n",
       "----- ------ ------ -------------------- ... -------- --------- ---------\n",
       "    1 138893      B            V1300 Her ...          267.84750  37.71819\n",
       "    1 409699             GSC 03089-01125 ...          267.86417  37.52539\n",
       "    1 161137      B VSX J175138.3+373909 ...          267.90963  37.65261\n",
       "    1 161239      B VSX J175159.5+373058 ...          267.99800  37.51636\n",
       "    1 161237      V            V1434 Her ...          268.02925  37.54617\n",
       "    1 138909      B            V1435 Her ...          268.05017  37.65192\n",
       "    1 161197      B VSX J175244.7+372753 ...        : 268.18662  37.46489\n",
       "    1 285787      B VSX J175254.3+372611 ...          268.22663  37.43661"
      ]
     },
     "execution_count": 15,
     "metadata": {},
     "output_type": "execute_result"
    }
   ],
   "source": [
    "vsx"
   ]
  },
  {
   "cell_type": "markdown",
   "metadata": {},
   "source": [
    "### Do the matching..."
   ]
  },
  {
   "cell_type": "code",
   "execution_count": 16,
   "metadata": {},
   "outputs": [],
   "source": [
    "mag_coords = SkyCoord(mags_grouped['RA'], mags_grouped['Dec'])\n",
    "vsx_coords = SkyCoord(vsx['RAJ2000'], vsx['DEJ2000'])\n",
    "vsx_idx, d2d, d3d = mag_coords.match_to_catalog_sky(vsx_coords)\n",
    "matches = d2d < 3 * u.arcsec"
   ]
  },
  {
   "cell_type": "markdown",
   "metadata": {},
   "source": [
    "### Add VSX name column to output table"
   ]
  },
  {
   "cell_type": "code",
   "execution_count": 17,
   "metadata": {},
   "outputs": [],
   "source": [
    "vsx_names = np.array([''] * len(mags_grouped), dtype='S50')\n",
    "vsx_names[matches] = vsx['Name'][vsx_idx[matches]]\n",
    "mags_grouped['vsx_name'] = vsx_names"
   ]
  },
  {
   "cell_type": "code",
   "execution_count": 18,
   "metadata": {},
   "outputs": [
    {
     "data": {
      "text/html": [
       "<i>Table length=3605</i>\n",
       "<table id=\"table4343715936\" class=\"table-striped table-bordered table-condensed\">\n",
       "<thead><tr><th>RA</th><th>Dec</th><th>file</th><th>mag_inst_R</th><th>date-obs</th><th>filter</th><th>star_id</th><th>exposure</th><th>night</th><th>airmass</th><th>aperture_net_flux</th><th>snr</th><th>mag_cal</th><th>zero_point</th><th>color_term</th><th>t_start_tdb</th><th>t_mid_tdb</th><th>vsx_name</th></tr></thead>\n",
       "<thead><tr><th>deg</th><th>deg</th><th></th><th></th><th></th><th></th><th></th><th>s</th><th></th><th></th><th></th><th></th><th></th><th></th><th></th><th></th><th></th><th></th></tr></thead>\n",
       "<thead><tr><th>float64</th><th>float64</th><th>bytes39</th><th>float64</th><th>bytes23</th><th>bytes1</th><th>int64</th><th>float64</th><th>int64</th><th>float64</th><th>float64</th><th>float64</th><th>float64</th><th>float64</th><th>float64</th><th>float64</th><th>float64</th><th>bytes50</th></tr></thead>\n",
       "<tr><td>267.909795</td><td>37.652936</td><td>2011-10-01T02:12:28.800tres-3b-099R.fit</td><td>-7.124338981685914</td><td>2011-10-01T02:12:28.800</td><td>R</td><td>41</td><td>40.0</td><td>55834</td><td>1.146</td><td>28300.59615</td><td>31.36997323783087</td><td>13.813243994899953</td><td>20.948439995227993</td><td>-0.08548833366553472</td><td>2455835.592243712</td><td>2455835.592475193</td><td>VSX J175138.3+373909</td></tr>\n",
       "<tr><td>267.909795</td><td>37.652936</td><td>2011-10-01T02:12:28.800tres-3b-100R.fit</td><td>-7.038524927097117</td><td>2011-10-01T02:12:28.800</td><td>R</td><td>41</td><td>40.0</td><td>55834</td><td>1.148</td><td>26149.89577</td><td>29.099729500411033</td><td>13.929022031680322</td><td>20.982529787647856</td><td>-0.11797502455389552</td><td>2455835.592243712</td><td>2455835.592475193</td><td>VSX J175138.3+373909</td></tr>\n",
       "<tr><td>267.99778499999996</td><td>37.516858</td><td>2011-10-01T02:12:28.800tres-3b-100R.fit</td><td>-5.709477527479762</td><td>2011-10-01T02:12:28.800</td><td>R</td><td>92</td><td>40.0</td><td>55834</td><td>1.148</td><td>7688.666124</td><td>8.593947346763914</td><td>15.18315529067089</td><td>20.982529787647856</td><td>-0.11797502455389552</td><td>2455835.5922487993</td><td>2455835.5924802804</td><td>VSX J175159.5+373058</td></tr>\n",
       "<tr><td>267.99778499999996</td><td>37.516858</td><td>2011-10-01T02:12:28.800tres-3b-099R.fit</td><td>-5.876351516391373</td><td>2011-10-01T02:12:28.800</td><td>R</td><td>92</td><td>40.0</td><td>55834</td><td>1.146</td><td>8966.038469</td><td>9.985679264247171</td><td>15.0069463688465</td><td>20.948439995227993</td><td>-0.08548833366553472</td><td>2455835.5922487993</td><td>2455835.5924802804</td><td>VSX J175159.5+373058</td></tr>\n",
       "<tr><td>268.02903</td><td>37.546444</td><td>2011-10-01T02:12:28.800tres-3b-100R.fit</td><td>-8.553686476683534</td><td>2011-10-01T02:12:28.800</td><td>R</td><td>1</td><td>40.0</td><td>55834</td><td>1.148</td><td>105568.5562</td><td>113.62159136039696</td><td>12.355344868195271</td><td>20.982529787647856</td><td>-0.11797502455389552</td><td>2455835.592251655</td><td>2455835.592483137</td><td>V1434 Her</td></tr>\n",
       "<tr><td>268.02903</td><td>37.546444</td><td>2011-10-01T02:12:28.800tres-3b-099R.fit</td><td>-8.535718277456496</td><td>2011-10-01T02:12:28.800</td><td>R</td><td>1</td><td>40.0</td><td>55834</td><td>1.146</td><td>103835.8452</td><td>112.3431174161453</td><td>12.359462482896056</td><td>20.948439995227993</td><td>-0.08548833366553472</td><td>2455835.592251655</td><td>2455835.592483137</td><td>V1434 Her</td></tr>\n",
       "<tr><td>268.049895</td><td>37.651964</td><td>2011-10-01T02:12:28.800tres-3b-099R.fit</td><td>-7.127564668477398</td><td>2011-10-01T02:12:28.800</td><td>R</td><td>10</td><td>40.0</td><td>55834</td><td>1.146</td><td>28384.80132</td><td>31.571306234004986</td><td>13.77599395310672</td><td>20.948439995227993</td><td>-0.08548833366553472</td><td>2455835.5922547085</td><td>2455835.59248619</td><td>V1435 Her</td></tr>\n",
       "<tr><td>268.049895</td><td>37.651964</td><td>2011-10-01T02:12:28.800tres-3b-100R.fit</td><td>-7.125550470707512</td><td>2011-10-01T02:12:28.800</td><td>R</td><td>10</td><td>40.0</td><td>55834</td><td>1.148</td><td>28332.19222</td><td>31.530703518150816</td><td>13.795042431821859</td><td>20.982529787647856</td><td>-0.11797502455389552</td><td>2455835.5922547085</td><td>2455835.59248619</td><td>V1435 Her</td></tr>\n",
       "<tr><td>268.22673000000003</td><td>37.437061</td><td>2011-10-01T02:12:28.800tres-3b-100R.fit</td><td>-8.098048823389366</td><td>2011-10-01T02:12:28.800</td><td>R</td><td>77</td><td>40.0</td><td>55834</td><td>1.148</td><td>69387.22525</td><td>75.86681908354116</td><td>12.815229620650587</td><td>20.982529787647856</td><td>-0.11797502455389552</td><td>2455835.5922657796</td><td>2455835.5924972612</td><td>VSX J175254.3+372611</td></tr>\n",
       "<tr><td>...</td><td>...</td><td>...</td><td>...</td><td>...</td><td>...</td><td>...</td><td>...</td><td>...</td><td>...</td><td>...</td><td>...</td><td>...</td><td>...</td><td>...</td><td>...</td><td>...</td><td>...</td></tr>\n",
       "<tr><td>268.049895</td><td>37.651964</td><td>2016-05-18T08:02:24.000tres-3-060R.fit</td><td>-6.878661817063905</td><td>2016-05-18T08:02:24.000</td><td>R</td><td>10</td><td>90.0</td><td>57525</td><td>1.019</td><td>50781.70009</td><td>52.078686659202724</td><td>13.908209040096978</td><td>20.80637451021035</td><td>-0.03714981858469354</td><td>2457526.838248275</td><td>2457526.8387691085</td><td>V1435 Her</td></tr>\n",
       "<tr><td>267.909795</td><td>37.652936</td><td>2016-05-18T08:02:24.000tres-3-060R.fit</td><td>-6.93038838525123</td><td>2016-05-18T08:02:24.000</td><td>R</td><td>41</td><td>90.0</td><td>57525</td><td>1.019</td><td>53259.59548</td><td>54.649618696371284</td><td>13.871268097881504</td><td>20.80637451021035</td><td>-0.03714981858469354</td><td>2457526.8382539097</td><td>2457526.838774743</td><td>VSX J175138.3+373909</td></tr>\n",
       "<tr><td>268.02903</td><td>37.546444</td><td>2016-05-18T08:02:24.000tres-3-060R.fit</td><td>-8.392476736193608</td><td>2016-05-18T08:02:24.000</td><td>R</td><td>1</td><td>90.0</td><td>57525</td><td>1.019</td><td>204754.3815</td><td>199.72821380927388</td><td>12.390753437599425</td><td>20.80637451021035</td><td>-0.03714981858469354</td><td>2457526.8382571703</td><td>2457526.8387780036</td><td>V1434 Her</td></tr>\n",
       "<tr><td>268.22673000000003</td><td>37.437061</td><td>2016-05-18T08:02:24.000tres-3-060R.fit</td><td>-7.97309420478467</td><td>2016-05-18T08:02:24.000</td><td>R</td><td>77</td><td>90.0</td><td>57525</td><td>1.019</td><td>139149.0326</td><td>138.58384154575717</td><td>12.811473363126673</td><td>20.80637451021035</td><td>-0.03714981858469354</td><td>2457526.838257388</td><td>2457526.8387782215</td><td>VSX J175254.3+372611</td></tr>\n",
       "<tr><td>267.99778499999996</td><td>37.516858</td><td>2016-05-18T08:02:24.000tres-3-060R.fit</td><td>-5.637370933542896</td><td>2016-05-18T08:02:24.000</td><td>R</td><td>92</td><td>90.0</td><td>57525</td><td>1.019</td><td>16187.91379</td><td>16.84058140121986</td><td>15.140695416064407</td><td>20.80637451021035</td><td>-0.03714981858469354</td><td>2457526.838260701</td><td>2457526.838781534</td><td>VSX J175159.5+373058</td></tr>\n",
       "<tr><td>268.049895</td><td>37.651964</td><td>2016-05-18T08:03:50.400tres-3-061R.fit</td><td>-6.877417623410534</td><td>2016-05-18T08:03:50.400</td><td>R</td><td>10</td><td>90.0</td><td>57525</td><td>1.018</td><td>50723.5404</td><td>52.1103777496032</td><td>13.913198684083621</td><td>20.803962528792134</td><td>-0.0254213753871686</td><td>2457526.839248299</td><td>2457526.8397691324</td><td>V1435 Her</td></tr>\n",
       "<tr><td>267.909795</td><td>37.652936</td><td>2016-05-18T08:03:50.400tres-3-061R.fit</td><td>-6.91705236065937</td><td>2016-05-18T08:03:50.400</td><td>R</td><td>41</td><td>90.0</td><td>57525</td><td>1.018</td><td>52609.41271</td><td>53.9328279847141</td><td>13.883681653444675</td><td>20.803962528792134</td><td>-0.0254213753871686</td><td>2457526.839253933</td><td>2457526.8397747665</td><td>VSX J175138.3+373909</td></tr>\n",
       "<tr><td>268.02903</td><td>37.546444</td><td>2016-05-18T08:03:50.400tres-3-061R.fit</td><td>-8.387734674408357</td><td>2016-05-18T08:03:50.400</td><td>R</td><td>1</td><td>90.0</td><td>57525</td><td>1.018</td><td>203862.0463</td><td>198.43619104248342</td><td>12.40039033774812</td><td>20.803962528792134</td><td>-0.0254213753871686</td><td>2457526.839257194</td><td>2457526.8397780275</td><td>V1434 Her</td></tr>\n",
       "<tr><td>268.22673000000003</td><td>37.437061</td><td>2016-05-18T08:03:50.400tres-3-061R.fit</td><td>-7.960986490491341</td><td>2016-05-18T08:03:50.400</td><td>R</td><td>77</td><td>90.0</td><td>57525</td><td>1.018</td><td>137605.916</td><td>137.30264165051705</td><td>12.828053690449696</td><td>20.803962528792134</td><td>-0.0254213753871686</td><td>2457526.839257412</td><td>2457526.8397782454</td><td>VSX J175254.3+372611</td></tr>\n",
       "<tr><td>267.99778499999996</td><td>37.516858</td><td>2016-05-18T08:03:50.400tres-3-061R.fit</td><td>-5.732744029357733</td><td>2016-05-18T08:03:50.400</td><td>R</td><td>92</td><td>90.0</td><td>57525</td><td>1.018</td><td>17674.21449</td><td>18.307717481554114</td><td>15.051847410840203</td><td>20.803962528792134</td><td>-0.0254213753871686</td><td>2457526.8392607244</td><td>2457526.8397815577</td><td>VSX J175159.5+373058</td></tr>\n",
       "</table>"
      ],
      "text/plain": [
       "<Table length=3605>\n",
       "        RA            Dec    ...     t_mid_tdb            vsx_name      \n",
       "       deg            deg    ...                                        \n",
       "     float64        float64  ...      float64             bytes50       \n",
       "------------------ --------- ... ------------------ --------------------\n",
       "        267.909795 37.652936 ...  2455835.592475193 VSX J175138.3+373909\n",
       "        267.909795 37.652936 ...  2455835.592475193 VSX J175138.3+373909\n",
       "267.99778499999996 37.516858 ... 2455835.5924802804 VSX J175159.5+373058\n",
       "267.99778499999996 37.516858 ... 2455835.5924802804 VSX J175159.5+373058\n",
       "         268.02903 37.546444 ...  2455835.592483137            V1434 Her\n",
       "         268.02903 37.546444 ...  2455835.592483137            V1434 Her\n",
       "        268.049895 37.651964 ...   2455835.59248619            V1435 Her\n",
       "        268.049895 37.651964 ...   2455835.59248619            V1435 Her\n",
       "268.22673000000003 37.437061 ... 2455835.5924972612 VSX J175254.3+372611\n",
       "               ...       ... ...                ...                  ...\n",
       "        268.049895 37.651964 ... 2457526.8387691085            V1435 Her\n",
       "        267.909795 37.652936 ...  2457526.838774743 VSX J175138.3+373909\n",
       "         268.02903 37.546444 ... 2457526.8387780036            V1434 Her\n",
       "268.22673000000003 37.437061 ... 2457526.8387782215 VSX J175254.3+372611\n",
       "267.99778499999996 37.516858 ...  2457526.838781534 VSX J175159.5+373058\n",
       "        268.049895 37.651964 ... 2457526.8397691324            V1435 Her\n",
       "        267.909795 37.652936 ... 2457526.8397747665 VSX J175138.3+373909\n",
       "         268.02903 37.546444 ... 2457526.8397780275            V1434 Her\n",
       "268.22673000000003 37.437061 ... 2457526.8397782454 VSX J175254.3+372611\n",
       "267.99778499999996 37.516858 ... 2457526.8397815577 VSX J175159.5+373058"
      ]
     },
     "execution_count": 18,
     "metadata": {},
     "output_type": "execute_result"
    }
   ],
   "source": [
    "mags_grouped[mags_grouped['vsx_name'] != '']"
   ]
  },
  {
   "cell_type": "markdown",
   "metadata": {},
   "source": [
    "## The file name below is probably too generic"
   ]
  },
  {
   "cell_type": "code",
   "execution_count": 19,
   "metadata": {},
   "outputs": [],
   "source": [
    "mags_grouped.write('tres3_calibrated_magnitudes_faintest_16_with_gain_gwonly.fits')"
   ]
  },
  {
   "cell_type": "markdown",
   "metadata": {},
   "source": [
    "## The light curve we want to make is a scatter plot\n",
    "\n",
    "with the column 't_mid_tdb' on the horizontal axis and 'mag_cal' on the vertical axis."
   ]
  },
  {
   "cell_type": "code",
   "execution_count": 20,
   "metadata": {},
   "outputs": [
    {
     "data": {
      "text/plain": [
       "721"
      ]
     },
     "execution_count": 20,
     "metadata": {},
     "output_type": "execute_result"
    }
   ],
   "source": [
    "len(np.unique(input_mags['file']))"
   ]
  },
  {
   "cell_type": "code",
   "execution_count": 21,
   "metadata": {},
   "outputs": [],
   "source": [
    "regrouped = mags_grouped.group_by('file')"
   ]
  },
  {
   "cell_type": "code",
   "execution_count": 22,
   "metadata": {},
   "outputs": [
    {
     "name": "stderr",
     "output_type": "stream",
     "text": [
      "WARNING: Cannot aggregate column 'date-obs' with type '|S23' [astropy.table.groups]\n",
      "WARNING: Cannot aggregate column 'filter' with type '|S1' [astropy.table.groups]\n",
      "WARNING: Cannot aggregate column 'vsx_name' with type '|S50' [astropy.table.groups]\n"
     ]
    }
   ],
   "source": [
    "barf = regrouped.groups.aggregate(np.mean)"
   ]
  },
  {
   "cell_type": "code",
   "execution_count": 23,
   "metadata": {},
   "outputs": [
    {
     "data": {
      "text/plain": [
       "0.0"
      ]
     },
     "execution_count": 23,
     "metadata": {},
     "output_type": "execute_result"
    }
   ],
   "source": [
    "barf['t_mid_tdb'][1] - barf['t_mid_tdb'][0]"
   ]
  },
  {
   "cell_type": "code",
   "execution_count": 24,
   "metadata": {},
   "outputs": [
    {
     "data": {
      "image/png": "[encoded data removed]",
      "text/plain": [
       "<Figure size 1080x360 with 1 Axes>"
      ]
     },
     "metadata": {},
     "output_type": "display_data"
    }
   ],
   "source": [
    "plt.figure(figsize=(15, 5))\n",
    "plt.plot(barf['color_term'], '.')\n",
    "plt.ylim(-0.25, 0.05)\n",
    "plt.grid()"
   ]
  },
  {
   "cell_type": "code",
   "execution_count": 25,
   "metadata": {},
   "outputs": [
    {
     "data": {
      "text/plain": [
       "[<matplotlib.lines.Line2D at 0x181ae66e48>]"
      ]
     },
     "execution_count": 25,
     "metadata": {},
     "output_type": "execute_result"
    },
    {
     "data": {
      "image/png": "[encoded data removed]",
      "text/plain": [
       "<Figure size 1080x360 with 1 Axes>"
      ]
     },
     "metadata": {},
     "output_type": "display_data"
    }
   ],
   "source": [
    "plt.figure(figsize=(15, 5))\n",
    "plt.grid()\n",
    "plt.plot(barf['zero_point'], '.')"
   ]
  },
  {
   "cell_type": "code",
   "execution_count": null,
   "metadata": {},
   "outputs": [],
   "source": []
  }
 ],
 "metadata": {
  "kernelspec": {
   "display_name": "Python 3",
   "language": "python",
   "name": "python3"
  },
  "language_info": {
   "codemirror_mode": {
    "name": "ipython",
    "version": 3
   },
   "file_extension": ".py",
   "mimetype": "text/x-python",
   "name": "python",
   "nbconvert_exporter": "python",
   "pygments_lexer": "ipython3",
   "version": "3.6.4"
  }
 },
 "nbformat": 4,
 "nbformat_minor": 2
}
