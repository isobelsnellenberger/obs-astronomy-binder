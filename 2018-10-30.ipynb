{
 "cells": [
  {
   "cell_type": "code",
   "execution_count": null,
   "metadata": {},
   "outputs": [],
   "source": [
    "!wget http://physics.mnstate.edu/craig/wasp-10-b-S001-R001-C020-r.fit\n",
    "\n",
    "!wget http://physics.mnstate.edu/craig/wasp-combined.fit"
   ]
  },
  {
   "cell_type": "markdown",
   "metadata": {},
   "source": [
    "1. [viewer-test-pan-zoom-control.ipynb](viewer-test-pan-zoom-control.ipynb)\n",
    "2. [viewer-seeing-profile.ipynb](viewer-seeing-profile.ipynb)"
   ]
  }
 ],
 "metadata": {
  "kernelspec": {
   "display_name": "Python 3",
   "language": "python",
   "name": "python3"
  },
  "language_info": {
   "codemirror_mode": {
    "name": "ipython",
    "version": 3
   },
   "file_extension": ".py",
   "mimetype": "text/x-python",
   "name": "python",
   "nbconvert_exporter": "python",
   "pygments_lexer": "ipython3",
   "version": "3.6.6"
  }
 },
 "nbformat": 4,
 "nbformat_minor": 2
}
