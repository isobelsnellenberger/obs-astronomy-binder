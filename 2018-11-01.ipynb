{
 "cells": [
  {
   "cell_type": "code",
   "execution_count": null,
   "metadata": {},
   "outputs": [],
   "source": [
    "!wget http://physics.mnstate.edu/craig/2018-11-01/kelt-1-S001-R053-C001-r.fit\n",
    "\n",
    "!wget http://physics.mnstate.edu/craig/2018-11-01/v0440-lac-S001-R043-C001-r.fit"
   ]
  },
  {
   "cell_type": "markdown",
   "metadata": {},
   "source": [
    "1. [viewer-test-pan-zoom-control.ipynb](viewer-test-pan-zoom-control.ipynb)\n",
    "2. [viewer-seeing-profile.ipynb](viewer-seeing-profile.ipynb)"
   ]
  }
 ],
 "metadata": {
  "kernelspec": {
   "display_name": "Python 3",
   "language": "python",
   "name": "python3"
  },
  "language_info": {
   "codemirror_mode": {
    "name": "ipython",
    "version": 3
   },
   "file_extension": ".py",
   "mimetype": "text/x-python",
   "name": "python",
   "nbconvert_exporter": "python",
   "pygments_lexer": "ipython3",
   "version": "3.6.7"
  }
 },
 "nbformat": 4,
 "nbformat_minor": 2
}
