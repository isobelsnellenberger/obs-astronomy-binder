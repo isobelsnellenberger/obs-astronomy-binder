{
 "cells": [
  {
   "cell_type": "markdown",
   "metadata": {},
   "source": [
    "# Error, Magnitude, and Signal to Noise Ratio\n",
    "\n",
    "As with any measurement, there are unavoidable uncertainties in measuring magnitudes. To be clear, these are not uncertainties it is possible to eliminate by building a better telescope or being more careful. They are simply a result of doing an experiment in which one is, essentially, counting things.\n",
    "\n",
    "We need two \"rules\" for calculating the error in this case:\n",
    "\n",
    "1. A way to calculate the error in a single counting experiment.\n",
    "2. A way to combine errors when adding or subtracting two measurements, each of which has its own error."
   ]
  },
  {
   "cell_type": "markdown",
   "metadata": {},
   "source": [
    "# Poission error: error in counting experiments\n",
    "\n",
    "The expected uncertainty in an experiment in which you count, on average, $N$ events in a process in which the individual events are independent and the rate of the events is constant over the time time interval in which you sample is $\\sqrt{N}$. This holds no matter what you are counting: radioactive decays, responses to a survey of randomly selected individuals, or photons from a star.\n",
    "\n",
    "One way to think about this uncertainty is that if you repeat the experiment several times you will measure a different value for $N$ each time, and the range in valuse you should expect to get is $\\sqrt{N}$.\n",
    "\n",
    "The *size* of the error increases with $N$ but the fractional error, i.e. the error divided by the number measured, is $\\sqrt{N}/N = 1/\\sqrt{N}$, which *decreases* with $N$. This is, roughly, why measurements of fainter stars are noisier than observations of brighter stars (fainter and brighter in this context meaning the two extremes of what a particular camera/telescope can measure in an exposure)."
   ]
  },
  {
   "cell_type": "markdown",
   "metadata": {},
   "source": [
    "# Signal to noise ratio (SNR): initial definition \n",
    "\n",
    "The signal-to-noise ratio (SNR) is often used in astronmical photometry to describe the amount of error in a measurement. It is the signal (i.e. count) divided by the error, or $SNR = N/\\sqrt{N} = \\sqrt{N}$. *Note well* that this is not, in many cases, the appropriate equation to use when doing astronmical photometry because there is more than one source of error, so the error is *not* simply $\\sqrt{N}$.\n",
    "\n",
    "The SNR is the inverse of the fractional error; the smaller the error, the larger the SNR."
   ]
  },
  {
   "cell_type": "markdown",
   "metadata": {},
   "source": [
    "# Combining errors\n",
    "\n",
    "Consider two quantitited that have been measured, called $a$ and $b$. These might two different counts, or length measurements or any other measurement. The only important assumptions we will make are that any error in $a$ is uncorrelated with the error $b$, and that there is error in the measurement of each. The error in $a$ will be denoted $\\sigma_a$ and the error in $b$ denoted $\\sigma_b$.\n",
    "\n",
    "If you add or subtract $a$ and $b$ then the result will also have an uncertainty which is determined by the uncertainties in $a$ and $b$. If we call the difference $d$, so that $d=a-b$, then \n",
    "\n",
    "$$\n",
    "\\sigma_d = \\sqrt{\\sigma_a^2 + \\sigma_b^2};\n",
    "$$\n",
    "\n",
    "the same formula applies if one adds $a$ and $b$. The key assumption that underlies this results is that the errors in $a$ and $b$ are uncorrelated (or, in other words, independent).\n",
    "\n",
    "There is a technique for combining errors when the result you need from $a$ and $b$ is more complicated than addition or subtraction, but that is beyond the scope of these notes.\n"
   ]
  },
  {
   "cell_type": "markdown",
   "metadata": {},
   "source": [
    "# *Single pixel* SNR\n",
    "\n",
    "Thought the formula below is directly useful in calculating SNR for stars in an image, it is helpful in thinking about the full formula.\n",
    "\n",
    "The idea is that a single pixel contains counts from many sources:\n",
    "\n",
    "+ the star or other object of interest\n",
    "+ the night time sky, which can be brighter or dimmer depending on the phase of the  moon and atmospheric conditions\n",
    "+ thermal noise from the camera\n",
    "+ an offest (the bias level)\n",
    "+ read noise, the noise introduced by the camera electronics whenevr an image is read out.\n",
    "\n",
    "[*insert more explanatory text here*]"
   ]
  },
  {
   "cell_type": "markdown",
   "metadata": {},
   "source": [
    "# SNR result, *single pixel*\n",
    "\n",
    "$$\n",
    "SNR = \\frac{N_{phot, star, pix}}{\\sqrt{gN_{counts, pix} + g N_{dark, counts, pix} + g N_{sky, counts, pix} + \\sigma_{RN}^2}}\n",
    "$$\n",
    "\n",
    "where the number of photons from the star (or other object of interest) is\n",
    "\n",
    "$$\n",
    "N_{phot, star, pix} = g(N_{counts, pix} - N_{dark, counts, pix} - N_{sky, counts, pix} - (\\text{bias offset})). \n",
    "$$"
   ]
  },
  {
   "cell_type": "markdown",
   "metadata": {},
   "source": [
    "# SNR result, multiple pixels\n",
    "\n",
    "In real images (at least from ground-based telescopes without adaptive optics) a single star falls across multiple pixels. If we call the number of pixels in the aperature containing the stars $n_{pix}$, and if the number of pixels in the area used to estimate the sky background is $n_b$, then (Howell, 2006)\n",
    "\n",
    "$$\n",
    "SNR = \\frac{N_{phot, star}}{\\sqrt{gN_{counts} + \n",
    "n_{pix} \\left(1 + \\frac{n_{pix}}{n_b} \\right)\n",
    "\\left( g N_{dark, counts, pix} + g N_{sky, counts, pix} + \\sigma_{RN}^2\\right)}} \n",
    "$$\n",
    "\n",
    "where the number of photons from the star (or other object of interest) is\n",
    "\n",
    "$$\n",
    "N_{phot, star} = g(N_{counts} - n_{pix} N_{dark, counts} - n_{pix} N_{sky, counts} - (\\text{bias offset})). \n",
    "$$"
   ]
  },
  {
   "cell_type": "markdown",
   "metadata": {},
   "source": [
    "# References\n",
    "\n",
    "Howell (2006): Howell, S. B., *Handbook of CCD Astronomy*, 2nd Ed, p.75, though this notebook ignores the (small) digitization noise."
   ]
  }
 ],
 "metadata": {
  "kernelspec": {
   "display_name": "Python 3",
   "language": "python",
   "name": "python3"
  },
  "language_info": {
   "codemirror_mode": {
    "name": "ipython",
    "version": 3
   },
   "file_extension": ".py",
   "mimetype": "text/x-python",
   "name": "python",
   "nbconvert_exporter": "python",
   "pygments_lexer": "ipython3",
   "version": "3.6.4"
  }
 },
 "nbformat": 4,
 "nbformat_minor": 1
}
