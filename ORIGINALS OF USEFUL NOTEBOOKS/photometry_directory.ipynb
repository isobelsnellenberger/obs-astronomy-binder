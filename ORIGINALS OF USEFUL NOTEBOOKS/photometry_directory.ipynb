{
 "cells": [
  {
   "cell_type": "code",
   "execution_count": null,
   "metadata": {},
   "outputs": [],
   "source": [
    "%matplotlib inline\n",
    "from matplotlib import pyplot as plt\n",
    "\n",
    "from pathlib import Path\n",
    "\n",
    "import numpy as np\n",
    "import bottleneck as bn\n",
    "\n",
    "from astropy.nddata import CCDData\n",
    "from astropy.stats import sigma_clipped_stats\n",
    "from astropy.coordinates import SkyCoord\n",
    "from astropy.table import Table, Column, vstack\n",
    "from astropy.visualization import hist\n",
    "from astropy import units as u\n",
    "from astropy.time import Time\n",
    "\n",
    "from ccdproc import combine, ImageFileCollection\n",
    "\n",
    "import reproject\n",
    "\n",
    "from photutils import DAOStarFinder, CircularAperture, CircularAnnulus, aperture_photometry, centroid_sources\n",
    "\n",
    "from astrowidgets import ImageWidget\n",
    "\n",
    "from glowing_waffles.photometry import detect_sources, faster_sigma_clip_stats, find_too_close, clipped_sky_per_pix_stats, add_to_photometry_table, photometry_on_directory"
   ]
  },
  {
   "cell_type": "code",
   "execution_count": null,
   "metadata": {},
   "outputs": [],
   "source": [
    "directory_with_images = 'test_sub'\n",
    "object_of_interest = 'kelt-16b'\n",
    "sample_image_for_finding_stars = 'kelt-16-S001-R001-C100-r.fit'\n",
    "\n",
    "# The name of your photometry file should include the night number (e.g. 2018-05-21), the object name \n",
    "# (e.g. kelt-16b) and the aperture radius (e.g. 12), so maybe: 2018-05-21-kelt-16b-aperture-12\n",
    "name_of_output_file = 'replace_this' + '.fits'"
   ]
  },
  {
   "cell_type": "markdown",
   "metadata": {},
   "source": [
    "## Pick aperture and annulus sizes\n",
    "\n",
    "Probably the best way to do this for now is to upload one of the kelt-16 images to the notebook we used in class to plot star profiles. You want an aperture about 2×FWHM, an annulus with  an inner radius at least 10 pixels larger than that, and outer radius about 15 pixels larger than the inner."
   ]
  },
  {
   "cell_type": "code",
   "execution_count": null,
   "metadata": {},
   "outputs": [],
   "source": [
    "aperture_rad = 12\n",
    "inner_annulus = aperture_rad + 15\n",
    "outer_annulus = inner_annulus + 15"
   ]
  },
  {
   "cell_type": "markdown",
   "metadata": {},
   "source": [
    "## Set some camera properties"
   ]
  },
  {
   "cell_type": "code",
   "execution_count": null,
   "metadata": {},
   "outputs": [],
   "source": [
    "max_adu = 45000\n",
    "gain = 1.47\n",
    "read_noise = 9.42\n",
    "dark_current = 0.014"
   ]
  },
  {
   "cell_type": "markdown",
   "metadata": {},
   "source": [
    "## Read one image to use detect sources\n",
    "\n",
    "This could be any image; I chose one roughly in the middle of the sequence. Ideally maybe we'd choose sources that were only in all of the images, but this will work for now."
   ]
  },
  {
   "cell_type": "code",
   "execution_count": null,
   "metadata": {},
   "outputs": [],
   "source": [
    "ccd = CCDData.read(str(Path(directory_with_images) / sample_image_for_finding_stars))"
   ]
  },
  {
   "cell_type": "markdown",
   "metadata": {},
   "source": [
    "## Set pixels that are above point where CCD becomes non-linear to invalid value\n",
    "\n",
    "This will ensure that the aperture sum is an invalid value if one or more of the pixels in the aperture is non-linear. *Change the value below to what you think is appropriate -- I'm going from memory.*"
   ]
  },
  {
   "cell_type": "code",
   "execution_count": null,
   "metadata": {},
   "outputs": [],
   "source": [
    "ccd.data[ccd.data > max_adu] = np.nan"
   ]
  },
  {
   "cell_type": "code",
   "execution_count": null,
   "metadata": {},
   "outputs": [],
   "source": [
    "iw = ImageWidget()\n",
    "iw"
   ]
  },
  {
   "cell_type": "code",
   "execution_count": null,
   "metadata": {},
   "outputs": [],
   "source": [
    "iw.load_fits(str(Path(directory_with_images) / sample_image_for_finding_stars))"
   ]
  },
  {
   "cell_type": "code",
   "execution_count": null,
   "metadata": {},
   "outputs": [],
   "source": [
    "if object_of_interest:\n",
    "    iw.center_on(SkyCoord.from_name(object_of_interest))"
   ]
  },
  {
   "cell_type": "markdown",
   "metadata": {},
   "source": [
    "# Required stuff starts here"
   ]
  },
  {
   "cell_type": "markdown",
   "metadata": {},
   "source": [
    "The background light from the sky needs to be removed before looking for sources. We'll do that by calculating the median. \"Sigma clipping\" is the term for excluding data that is far from the average...here we do it mostly to exclude the \"bright\" pixels (i.e. the stars) from our estimate of the background."
   ]
  },
  {
   "cell_type": "markdown",
   "metadata": {},
   "source": [
    "## Only include this if you have an image viewer above\n",
    "\n",
    "It is handy to see where the detected sources are...."
   ]
  },
  {
   "cell_type": "code",
   "execution_count": null,
   "metadata": {},
   "outputs": [],
   "source": [
    "stars = detect_sources(ccd, 8, 10)"
   ]
  },
  {
   "cell_type": "code",
   "execution_count": null,
   "metadata": {},
   "outputs": [],
   "source": [
    "iw.reset_markers()\n",
    "iw.marker = {'type': 'circle', 'color': 'lightgreen', 'radius': 10}\n",
    "iw.add_markers(stars, x_colname='xcentroid', y_colname='ycentroid', pixel_coords_offset=0)"
   ]
  },
  {
   "cell_type": "markdown",
   "metadata": {},
   "source": [
    "## Set up sky coordinates of target list\n",
    "\n",
    "We'll want to the list of stars in RA/Dec so we can find them in each image. \n",
    "\n",
    "`star_locs` is waht is used later on to place the apertures"
   ]
  },
  {
   "cell_type": "code",
   "execution_count": null,
   "metadata": {},
   "outputs": [],
   "source": [
    "star_locs = ccd.wcs.all_pix2world(stars['xcentroid'], stars['ycentroid'], 0)"
   ]
  },
  {
   "cell_type": "markdown",
   "metadata": {},
   "source": [
    "### Check for stars closer than 2 × aperture radius and remove from list"
   ]
  },
  {
   "cell_type": "code",
   "execution_count": null,
   "metadata": {},
   "outputs": [],
   "source": [
    "too_close = find_too_close(star_locs, aperture_rad)"
   ]
  },
  {
   "cell_type": "code",
   "execution_count": null,
   "metadata": {},
   "outputs": [],
   "source": [
    "star_locs = (star_locs[0][~too_close], star_locs[1][~too_close])"
   ]
  },
  {
   "cell_type": "markdown",
   "metadata": {},
   "source": [
    "### Include this only if you have the image viewer -- it shows which stars are being removed"
   ]
  },
  {
   "cell_type": "code",
   "execution_count": null,
   "metadata": {},
   "outputs": [],
   "source": [
    "iw.marker = {'type': 'circle', 'color': 'red', 'radius': 20}\n",
    "iw.add_markers(stars[too_close], x_colname='xcentroid', y_colname='ycentroid', pixel_coords_offset=0)"
   ]
  },
  {
   "cell_type": "markdown",
   "metadata": {},
   "source": [
    "### Make up a unique ID for each star"
   ]
  },
  {
   "cell_type": "code",
   "execution_count": null,
   "metadata": {},
   "outputs": [],
   "source": [
    "star_ids = np.arange(len(star_locs[0])) + 1"
   ]
  },
  {
   "cell_type": "markdown",
   "metadata": {},
   "source": [
    "## We are ready to do photometry on all of the images"
   ]
  },
  {
   "cell_type": "code",
   "execution_count": null,
   "metadata": {},
   "outputs": [],
   "source": [
    "all_phot = photometry_on_directory(directory_with_images, object_of_interest,\n",
    "                                   star_locs, aperture_rad,\n",
    "                                   inner_annulus, outer_annulus,\n",
    "                                   max_adu, star_ids,\n",
    "                                   gain, read_noise, dark_current)"
   ]
  },
  {
   "cell_type": "markdown",
   "metadata": {},
   "source": [
    "### Write out the file!"
   ]
  },
  {
   "cell_type": "code",
   "execution_count": null,
   "metadata": {},
   "outputs": [],
   "source": [
    "all_phot.write(name_of_output_file)"
   ]
  }
 ],
 "metadata": {
  "kernelspec": {
   "display_name": "Python 3",
   "language": "python",
   "name": "python3"
  },
  "language_info": {
   "codemirror_mode": {
    "name": "ipython",
    "version": 3
   },
   "file_extension": ".py",
   "mimetype": "text/x-python",
   "name": "python",
   "nbconvert_exporter": "python",
   "pygments_lexer": "ipython3",
   "version": "3.6.4"
  }
 },
 "nbformat": 4,
 "nbformat_minor": 2
}
