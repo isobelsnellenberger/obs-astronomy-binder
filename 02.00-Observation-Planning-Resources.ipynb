{
 "cells": [
  {
   "cell_type": "markdown",
   "metadata": {},
   "source": [
    "# Resources for planning observations\n",
    "\n",
    "This notebook contains a short overview of some of the tools for planning observations. It is not (yet) a detailed, step-by-step cookbook."
   ]
  },
  {
   "cell_type": "markdown",
   "metadata": {},
   "source": [
    "## Before you start\n",
    "\n",
    "Pick an object you are interested in (e.g. M34, an open cluster, or Kelt-1, a star which has an exoplanet orbiting around it) that is **not in our solar system**. Objects in our solar system, like an asteroid, need a little more care because their position changes with time.\n",
    "\n",
    "You will, shortly, try looking up information about the object. If the first attempt at lookup fails, consider switching to a different object."
   ]
  },
  {
   "cell_type": "markdown",
   "metadata": {},
   "source": [
    "# Links to Resources\n",
    "\n",
    "1. Information about the Paul P. Feder Observatory is at the observatory blog; of particular importance later in this activity are the longitude, latitude and elevation: [http://astronomy.mnstate.edu/Feder_Observatory/](http://astronomy.mnstate.edu/Feder_Observatory/)\n",
    "\n",
    "1. Simbad is the go-to source for basic information like coordinates or magnitude of an object. It is at: [http://simbad.u-strasbg.fr/simbad/](http://simbad.u-strasbg.fr/simbad/). There are several ways you can look up information but the examples below will all use a [basic identifier search](http://simbad.u-strasbg.fr/simbad/sim-fbasic).\n",
    "\n",
    "2. The [American Association of Variable Star Observers](http://aavso.org) (AAVSO) finder charts are a quick way to generate a finding chart for many objects (it is also possible to do something similar in simbad, but the AAVSO site is easier to use for that). You can find charts here for many objects that are not variable stars. The form for generating finding charts is at: https://www.aavso.org/apps/vsp/\n",
    "\n",
    "3. The AAVSO's [Variable Star Index (VSX)](https://www.aavso.org/vsx/index.php?view=search.top) has, for many variable stars, both basic information about the star and predictions of the time at which the maximum brightness (for a pulsating variable) or primary eclipse (for an eclipsing binary) will occur over the following few days.\n",
    "\n",
    "3. The [Exoplanet Transit Database](http://var2.astro.cz/ETD/index.php) has both predictions of when exoplanet transits will occur (though you have to provide the latitude and longitude of the observatory) and finding charts.\n",
    "\n",
    "3. There are (at least) a couple of options for checking whether a specific object is visible on a specific night. One is [JSkyCalc](http://www.dartmouth.edu/~physics/labs/skycalc/flyer.html), which has the virtues of being free and running on any computer that has Java. It is a little difficult to use the interface and you will need to add information (lat/lon/elevation) about our observatory. Another is [astroplan](https://astroplan.readthedocs.io/en/latest/), a python-based solution demonstrated below. It is also free, and requires information about the site, and requires you to be comfortable enough with a computer to be willing to modify the example code below.\n",
    "\n",
    "It is also possible to look up information from some of these sources from directly from a notebook like this one using [astroquery](http://astroquery.readthedocs.io/en/latest/), but this typically takes at least a little programming. A simple example will be shown below, though.\n"
   ]
  },
  {
   "cell_type": "markdown",
   "metadata": {
    "collapsed": true
   },
   "source": [
    "# Example object: the variable star EY UMa\n",
    "\n",
    "There is nothing particularly special about this star; it simply happens to be one that has been observed at Feder Observatory.\n",
    "\n",
    "## Goal: find a night in Fall 2016 when EY UMa is visible and has a maximum \n",
    "\n",
    "## Step 1: Get some basic information about the object\n",
    "\n",
    "If you go to the [simbad basic identifier search form](http://simbad.u-strasbg.fr/simbad/sim-fbasic) and enter `ey uma` (capitalization is ignored) then you should see something like this:\n",
    "\n",
    "![Screen capture of simbad information for ey uma](simbad-ey-uma.png)"
   ]
  },
  {
   "cell_type": "markdown",
   "metadata": {
    "collapsed": true
   },
   "source": [
    "The information returned includes the coordinates of EY UMa in several formats (RA/Dec in ICRS, FK5 and FK4, and the galactic coordinates of EY UMa) and the flux (i.e. amount of light) through several filters (B, V, ..., i, z) expressed as magnitudes, along with the measurement errors (where available), and the source for the flux. \n",
    "\n",
    "Further down on the page are listings of some of the other identifiers of this object. For example, one of several \"aliases\" for EY UMa is `CSS J090220.7+494909`. CSS is an acronym for the Catalina Sky Survey, and `J090220.7+494909` is the identifier (which in this case is based on the coordinates of the star) assigned to this star by the CSS folks.\n",
    "\n",
    "There are also links to any academic papers that have menitoned EY UMa and to online data sources for EY UMa that simbad is aware of.\n",
    "\n",
    "While it is possible to make plots of the region of the sky using some of the links on the simbad results page, the interface is rich enough that it takes a nontrivial time investment to figure out how to use it."
   ]
  },
  {
   "cell_type": "markdown",
   "metadata": {},
   "source": [
    "## Step 2: Is EY UMa *ever* visible from the Feder Observatory?\n",
    "\n",
    "Objects which are too far south are never visible from Feder Observatory, or at least are never far enough above the horizon to be practical to observe.\n",
    "\n",
    "The *highest* an object will ever be in the sky is at an altitude of \n",
    "$$\n",
    "a_{max} = 90^\\circ - \\text{latitude} + \\text{declination}\n",
    "$$\n",
    "above the *southern* horizon, and, as a rough rule of thumb, you should only do science with images of objects more than $30^\\circ$ above the horizon. \n",
    "\n",
    "The latitude of Feder Observatory is (*very* roughly) 47$^\\circ$, and the declination of EY UMa is roughly 50$^\\circ$, so the maximum altitude EY UMa ever reaches is $a_max = 90^\\circ - 47^\\circ + 50^\\circ = 93^\\circ$, a little north of directly overhead, so well above the $30^\\circ$ rule-of-thumb. \n",
    "\n",
    "Based on this, there should be at least *some* nights we can observe EY UMa.\n",
    "\n",
    "*Note:* it is of course possible to take images of objects closer to the horizon than 30 degrees. The challenge is accurately taking into account atmospheric effects that close to the horizon, especially in a low-altitude location in a region where atmospheric conditions often vary quite significantly over a distance of 10-20 miles. "
   ]
  },
  {
   "cell_type": "markdown",
   "metadata": {},
   "source": [
    "## Step 3: Is EY UMa visible *tonight* from the Feder Observatory?\n",
    "\n",
    "This questions is harder to answer than the previous one because there is no simple rule of thumb. One approach is to use [JSkyCalc](http://www.dartmouth.edu/~physics/labs/skycalc/flyer.html), mentioned above. \n",
    "\n",
    "This notebook will demonstrate how to do it using a couple of python packages related to astropy. While there are many additional options available through [JSkyCalc](http://www.dartmouth.edu/~physics/labs/skycalc/flyer.html), the astropy-based method shown here is more straightforward.\n",
    "\n",
    "For the sake of this part, \"tonight\" will be September 15, 2016 at 11PM CDT. Convert this to UTC by adding 5 hours to get Septmeber **16**, 2016 at 4:00.\n",
    "\n",
    "Note well that that the date changed in going from local time to UTC."
   ]
  },
  {
   "cell_type": "code",
   "execution_count": 1,
   "metadata": {},
   "outputs": [
    {
     "name": "stderr",
     "output_type": "stream",
     "text": [
      "WARNING: OldEarthOrientationDataWarning: Your version of the IERS Bulletin A is 60.8 days old. For best precision (on the order of arcseconds), you must download an up-to-date IERS Bulletin A table. To do so, run:\n",
      "\n",
      ">>> from astroplan import download_IERS_A\n",
      ">>> download_IERS_A()\n",
      " [astroplan.utils]\n"
     ]
    }
   ],
   "source": [
    "# Load a couple of things needed from astroplan\n",
    "from astroplan import Observer, FixedTarget\n",
    "\n",
    "# And load Time from astropy\n",
    "from astropy.time import Time"
   ]
  },
  {
   "cell_type": "markdown",
   "metadata": {},
   "source": [
    "To get started, let astroplan know where the observatory is located:"
   ]
  },
  {
   "cell_type": "code",
   "execution_count": 2,
   "metadata": {},
   "outputs": [],
   "source": [
    "feder = Observer(latitude=\"46.86678d\", longitude=\"263.54672d\")"
   ]
  },
  {
   "cell_type": "markdown",
   "metadata": {},
   "source": [
    "Next, define a target for EY UMa. For any object that can be looked up in simbad the name can be used."
   ]
  },
  {
   "cell_type": "code",
   "execution_count": 3,
   "metadata": {},
   "outputs": [],
   "source": [
    "my_object = FixedTarget.from_name('ey uma')"
   ]
  },
  {
   "cell_type": "code",
   "execution_count": 4,
   "metadata": {},
   "outputs": [
    {
     "data": {
      "text/plain": [
       "<FixedTarget \"ey uma\" at SkyCoord (ICRS): (ra, dec) in deg (135.5865, 49.81925)>"
      ]
     },
     "execution_count": 4,
     "metadata": {},
     "output_type": "execute_result"
    }
   ],
   "source": [
    "my_object"
   ]
  },
  {
   "cell_type": "markdown",
   "metadata": {},
   "source": [
    "Finally, define the time we are interested in"
   ]
  },
  {
   "cell_type": "code",
   "execution_count": 5,
   "metadata": {},
   "outputs": [],
   "source": [
    "obs_time = Time(\"2016-09-16 04:00:00\", scale='utc')"
   ]
  },
  {
   "cell_type": "markdown",
   "metadata": {},
   "source": [
    "With these in place it is easy to determine whether EY UMa is above the horizon at that location and time."
   ]
  },
  {
   "cell_type": "code",
   "execution_count": 6,
   "metadata": {},
   "outputs": [
    {
     "data": {
      "text/plain": [
       "True"
      ]
     },
     "execution_count": 6,
     "metadata": {},
     "output_type": "execute_result"
    }
   ],
   "source": [
    "feder.target_is_up(obs_time, my_object)"
   ]
  },
  {
   "cell_type": "markdown",
   "metadata": {},
   "source": [
    "Remember, though, that being above the horizon is not enough; it needs to be more than $30^\\circ$ above the horizon to be observable. The altitude can be calculated using astroplan:"
   ]
  },
  {
   "cell_type": "code",
   "execution_count": 7,
   "metadata": {},
   "outputs": [
    {
     "name": "stdout",
     "output_type": "stream",
     "text": [
      "6d39m26.8044s\n"
     ]
    }
   ],
   "source": [
    "print(feder.altaz(obs_time, my_object).alt)"
   ]
  },
  {
   "cell_type": "markdown",
   "metadata": {},
   "source": [
    "### EY UMa is not observable on this date\n",
    "\n",
    "It needs to be more than 30 degrees above the horizon to image it, but is only 6 degrees above the horizon!"
   ]
  }
 ],
 "metadata": {
  "kernelspec": {
   "display_name": "Python 3",
   "language": "python",
   "name": "python3"
  },
  "language_info": {
   "codemirror_mode": {
    "name": "ipython",
    "version": 3
   },
   "file_extension": ".py",
   "mimetype": "text/x-python",
   "name": "python",
   "nbconvert_exporter": "python",
   "pygments_lexer": "ipython3",
   "version": "3.6.4"
  }
 },
 "nbformat": 4,
 "nbformat_minor": 1
}
