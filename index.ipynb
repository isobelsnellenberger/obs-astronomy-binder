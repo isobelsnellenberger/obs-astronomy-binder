{
 "cells": [
  {
   "cell_type": "markdown",
   "metadata": {},
   "source": [
    "# Reading\n",
    "\n",
    "1. [Times in astronomy](01.00-Time-scales-in-astronomy.ipynb)\n",
    "1. [Observation Planning Resources](02.00-Observation-Planning-Resources.ipynb)\n",
    "1. [Observation Planning 2 (airmass plots)](02.01-Observation-Planning-2.ipynb)\n",
    "1. [Coordinates systems in astronomy](02.02-Coordinate-systems-in-astronomy.ipynb)\n",
    "1. [Introduction to Astronomical Magnitudes](03.00-Introduction-to-Astronomical-Magnitudes.ipynb)\n",
    "1. [Errors in magnitudes](03.01-Errors-in-magnitudes.ipynb)\n",
    "1. [Data Reduction 1 (includes exercises)](Data Reduction 1.ipynb) -- data reduction by hand.\n",
    "1. [Data Reduction 2  Image Combination (at the moment requires data not in this repo)](Data Reduction 2 -- Combination.ipynb) -- image combination methods, done as discussion of a single pixel...\n",
    "\n",
    "\n",
    "## Other rando notebooks\n",
    "\n",
    "+ [MakeFudgedDark](MakeFudgedDark.ipynb) -- in which we construct a `master_dark` that has star after-images masked out.\n",
    "+ [leap-second-funniness](leap-second-funniness.ipynb) -- a digression on leap seconds and UTC.\n",
    "+ [Reducing data from Feder Observatory](Reducing data from Feder Observatory.ipynb) -- the settings to use for reducing images at Feder Observatory.\n",
    "\n"
   ]
  },
  {
   "cell_type": "markdown",
   "metadata": {},
   "source": [
    "# Notebooks for dates\n",
    "\n",
    "+ [2018-11-13.ipynb](2018-11-13.ipynb)"
   ]
  },
  {
   "cell_type": "markdown",
   "metadata": {},
   "source": [
    "# Exercises\n",
    "\n",
    "[List of exercises](Exercises/index.ipynb)"
   ]
  },
  {
   "cell_type": "code",
   "execution_count": null,
   "metadata": {},
   "outputs": [],
   "source": []
  }
 ],
 "metadata": {
  "kernelspec": {
   "display_name": "Python 3",
   "language": "python",
   "name": "python3"
  },
  "language_info": {
   "codemirror_mode": {
    "name": "ipython",
    "version": 3
   },
   "file_extension": ".py",
   "mimetype": "text/x-python",
   "name": "python",
   "nbconvert_exporter": "python",
   "pygments_lexer": "ipython3",
   "version": "3.6.4"
  }
 },
 "nbformat": 4,
 "nbformat_minor": 1
}
