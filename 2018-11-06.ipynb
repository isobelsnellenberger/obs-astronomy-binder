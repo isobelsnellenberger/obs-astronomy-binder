{
 "cells": [
  {
   "cell_type": "code",
   "execution_count": null,
   "metadata": {},
   "outputs": [],
   "source": [
    "!wget http://physics.mnstate.edu/craig/2018-11-06/kelt-16-S001-R001-C100-r.fit\n",
    "\n",
    "!wget http://physics.mnstate.edu/craig/2018-11-06/kelt-16-b-S001-R001-C130-r.fit\n",
    "!wget http://physics.mnstate.edu/craig/2018-11-06/kelt-16-b-S001-R001-C125-r.fit"
   ]
  },
  {
   "cell_type": "markdown",
   "metadata": {},
   "source": [
    "1. [photometry-on-directory.ipynb](photometry-on-directory.ipynb)\n",
    "2. [viewer-seeing-profile.ipynb](viewer-seeing-profile.ipynb)"
   ]
  },
  {
   "cell_type": "code",
   "execution_count": null,
   "metadata": {},
   "outputs": [],
   "source": []
  }
 ],
 "metadata": {
  "kernelspec": {
   "display_name": "Python 3",
   "language": "python",
   "name": "python3"
  },
  "language_info": {
   "codemirror_mode": {
    "name": "ipython",
    "version": 3
   },
   "file_extension": ".py",
   "mimetype": "text/x-python",
   "name": "python",
   "nbconvert_exporter": "python",
   "pygments_lexer": "ipython3",
   "version": "3.6.4"
  }
 },
 "nbformat": 4,
 "nbformat_minor": 2
}
