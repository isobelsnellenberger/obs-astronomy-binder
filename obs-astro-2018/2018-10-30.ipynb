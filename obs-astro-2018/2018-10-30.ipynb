{
 "cells": [
  {
   "cell_type": "code",
   "execution_count": 1,
   "metadata": {},
   "outputs": [
    {
     "name": "stdout",
     "output_type": "stream",
     "text": [
      "--2018-12-24 14:04:53--  http://physics.mnstate.edu/craig/wasp-10-b-S001-R001-C020-r.fit\n",
      "Resolving physics.mnstate.edu (physics.mnstate.edu)... 199.17.81.61\n",
      "Connecting to physics.mnstate.edu (physics.mnstate.edu)|199.17.81.61|:80... connected.\n",
      "HTTP request sent, awaiting response... 200 OK\n",
      "Length: 67132800 (64M) [image/fits]\n",
      "Saving to: ‘wasp-10-b-S001-R001-C020-r.fit’\n",
      "\n",
      "wasp-10-b-S001-R001 100%[===================>]  64.02M   578KB/s    in 1m 57s  \n",
      "\n",
      "2018-12-24 14:06:50 (560 KB/s) - ‘wasp-10-b-S001-R001-C020-r.fit’ saved [67132800/67132800]\n",
      "\n",
      "--2018-12-24 14:06:51--  http://physics.mnstate.edu/craig/wasp-combined.fit\n",
      "Resolving physics.mnstate.edu (physics.mnstate.edu)... 199.17.81.61\n",
      "Connecting to physics.mnstate.edu (physics.mnstate.edu)|199.17.81.61|:80... connected.\n",
      "HTTP request sent, awaiting response... 200 OK\n",
      "Length: 151027200 (144M) [image/fits]\n",
      "Saving to: ‘wasp-combined.fit’\n",
      "\n",
      "wasp-combined.fit   100%[===================>] 144.03M   407KB/s    in 5m 3s   \n",
      "\n",
      "2018-12-24 14:11:53 (488 KB/s) - ‘wasp-combined.fit’ saved [151027200/151027200]\n",
      "\n"
     ]
    }
   ],
   "source": [
    "!wget http://physics.mnstate.edu/craig/wasp-10-b-S001-R001-C020-r.fit\n",
    "\n",
    "!wget http://physics.mnstate.edu/craig/wasp-combined.fit"
   ]
  },
  {
   "cell_type": "markdown",
   "metadata": {},
   "source": [
    "1. [viewer-test-pan-zoom-control.ipynb](viewer-test-pan-zoom-control.ipynb)\n",
    "2. [viewer-seeing-profile.ipynb](viewer-seeing-profile.ipynb)"
   ]
  }
 ],
 "metadata": {
  "kernelspec": {
   "display_name": "Python 3",
   "language": "python",
   "name": "python3"
  },
  "language_info": {
   "codemirror_mode": {
    "name": "ipython",
    "version": 3
   },
   "file_extension": ".py",
   "mimetype": "text/x-python",
   "name": "python",
   "nbconvert_exporter": "python",
   "pygments_lexer": "ipython3",
   "version": "3.6.4"
  }
 },
 "nbformat": 4,
 "nbformat_minor": 2
}
