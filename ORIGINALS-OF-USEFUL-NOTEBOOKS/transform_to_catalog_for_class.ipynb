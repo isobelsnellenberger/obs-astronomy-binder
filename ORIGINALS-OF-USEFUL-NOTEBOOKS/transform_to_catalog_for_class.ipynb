{
 "cells": [
  {
   "cell_type": "code",
   "execution_count": null,
   "metadata": {},
   "outputs": [],
   "source": [
    "%matplotlib inline\n",
    "import matplotlib.pyplot as plt\n",
    "\n",
    "import numpy as np\n",
    "\n",
    "from pathlib import Path\n",
    "\n",
    "from astropy import units as u\n",
    "from astropy.table import Table \n",
    "from astropy.nddata import CCDData\n",
    "from astropy.coordinates import SkyCoord, EarthLocation\n",
    "from astropy.time import Time, TimeDeltaSec\n",
    "\n",
    "import glowing_waffles.differential_photometry as gwdf"
   ]
  },
  {
   "cell_type": "markdown",
   "metadata": {},
   "source": [
    "\n",
    "## Change the settings below as appropriate for your images"
   ]
  },
  {
   "cell_type": "code",
   "execution_count": null,
   "metadata": {},
   "outputs": [],
   "source": [
    "# This can be a relative or absolute path\n",
    "# On Windows make this a \"raw\" string by putting an r before the string, otherwise\n",
    "# Python interprets the backslashes as escapotential energy sequences.\n",
    "# Windows example:\n",
    "# directory_with_images = r'C:\\path\\to\\my\\files'\n",
    "#\n",
    "# Mac/Linux example:\n",
    "directory_with_images = 'test_sub'\n",
    "\n",
    "# If your magnitudes are in the same directory as the images then do\n",
    "# directory_with_magnitude_file = directory_with_images\n",
    "directory_with_magnitude_file = '.'\n",
    "\n",
    "# This only used to center to make a light curve of your object at the end of this\n",
    "# notebook.\n",
    "# If the object you have can't be looked up in simbad this cell will raise an error.\n",
    "#\n",
    "# If it does raise an error, then set the object of interest to an empty string\n",
    "object_of_interest = 'kelt-16b'\n",
    "\n",
    "if object_of_interest:\n",
    "    obj_coords = SkyCoord.from_name(object_of_interest)\n",
    "    \n",
    "sample_image_for_finding_stars = 'kelt-16-S001-R001-C100-r.fit'\n",
    "\n",
    "input_photometry_file = 'all_the_photometry_kelt-16.fits'\n",
    "\n",
    "# Set the faintest stars to use in calibrating the magnitudes\n",
    "# For the new camera (any nights in 2018) use 13\n",
    "# For the old camera (any older nights) use 16\n",
    "faintest_mag = 13\n",
    "\n",
    "# Set the name of the apass column to use for calibration\n",
    "# Should be r_mag for the new camera, R_mag for the old\n",
    "apass_cal_mag = 'r_mag'\n",
    "\n",
    "# Set the name of thecolumn in our data file for our instrumental magnitude\n",
    "# Should be mag_inst_r for the new camera, mag_inst_R for the old\n",
    "feder_instrumental_mag = 'mag_inst_r'\n",
    "\n",
    "# This must be a different file name\n",
    "output_photometry_file = 'some_good_name.fits'"
   ]
  },
  {
   "cell_type": "code",
   "execution_count": null,
   "metadata": {},
   "outputs": [],
   "source": [
    "ccd = CCDData.read(Path(directory_with_images) / sample_image_for_finding_stars)"
   ]
  },
  {
   "cell_type": "code",
   "execution_count": null,
   "metadata": {},
   "outputs": [],
   "source": [
    "apass, apass_x, apass_y, apass_for_transform, in_apass_x, in_apass_y = gwdf.find_apass_stars(ccd)\n",
    "vsx, vsx_x, vsx_y, vsx_names = gwdf.find_known_variables(ccd)\n",
    "\n",
    "apass_all_coords = SkyCoord(apass['RAJ2000'], apass['DEJ2000'], unit='deg')\n",
    "apass_for_transform_coords = SkyCoord(apass_for_transform['RAJ2000'], apass_for_transform['DEJ2000'], unit='deg')"
   ]
  },
  {
   "cell_type": "markdown",
   "metadata": {},
   "source": [
    "## Add column for R filter in case we need it"
   ]
  },
  {
   "cell_type": "code",
   "execution_count": null,
   "metadata": {},
   "outputs": [],
   "source": [
    "apass['R_mag'] = gwdf.filter_transform(apass, 'R', r='r_mag', i='i_mag', transform='ivezic')\n",
    "apass_for_transform['R_mag'] = gwdf.filter_transform(apass_for_transform, 'R', r='r_mag', i='i_mag', transform='ivezic')"
   ]
  },
  {
   "cell_type": "markdown",
   "metadata": {},
   "source": [
    "## Read in the data file"
   ]
  },
  {
   "cell_type": "code",
   "execution_count": null,
   "metadata": {},
   "outputs": [],
   "source": [
    "input_mags = Table.read(Path(directory_with_magnitude_file) / input_photometry_file)"
   ]
  },
  {
   "cell_type": "markdown",
   "metadata": {},
   "source": [
    "## Get our \"star_id\" for object of interest"
   ]
  },
  {
   "cell_type": "code",
   "execution_count": null,
   "metadata": {},
   "outputs": [],
   "source": [
    "if object_of_interest:\n",
    "    input_coords = SkyCoord(input_mags['RA'], input_mags['Dec'])\n",
    "    idx, d2d, d3d = object_of_interest_coords.match_to_catalog_sky(input_coords)\n",
    "\n",
    "    object_of_interest_id = input_mags['star_id'][idx]\n",
    "    print(object_of_interest_id)"
   ]
  },
  {
   "cell_type": "code",
   "execution_count": null,
   "metadata": {},
   "outputs": [],
   "source": [
    "input_mags['mag_cal'] = np.zeros(len(input_mags))\n",
    "input_mags['zero_point'] = np.zeros(len(input_mags))\n",
    "input_mags['color_term'] = np.zeros(len(input_mags))\n",
    "input_mags['t_start_tdb'] = np.zeros(len(input_mags))\n",
    "input_mags['t_mid_tdb'] = np.zeros(len(input_mags))\n",
    "\n",
    "mags_grouped = input_mags.group_by('file')"
   ]
  },
  {
   "cell_type": "code",
   "execution_count": null,
   "metadata": {},
   "outputs": [],
   "source": [
    "feder = EarthLocation(\"263.54672d\", \"46.86678d\")"
   ]
  },
  {
   "cell_type": "code",
   "execution_count": null,
   "metadata": {},
   "outputs": [],
   "source": [
    "input_mags.colnames"
   ]
  },
  {
   "cell_type": "code",
   "execution_count": null,
   "metadata": {
    "scrolled": false
   },
   "outputs": [],
   "source": [
    "print('On image...', end='')\n",
    "for idx, our_mags in enumerate(mags_grouped.groups):\n",
    "    print(str(idx) + '..', end='')\n",
    "    new_mags, matches, transform = gwdf.transform_magnitudes(our_mags, apass, apass_for_transform, \n",
    "                                                faintest_mag_for_transform=faintest_mag,\n",
    "                                                input_mag_colum=feder_instrumental_mag,\n",
    "                                                catalog_mag_column=apass_cal_mag,\n",
    "                                                catalog_color_column='B-V'\n",
    "                                               )\n",
    "    our_mags['mag_cal'][matches] = new_mags.data.filled(np.nan)\n",
    "    our_mags['mag_cal'][~matches] = np.nan\n",
    "    our_mags['zero_point'] = transform.parameters[0]\n",
    "    our_mags['color_term'] = transform.parameters[1]\n",
    "    t_utc = Time(our_mags['date-obs'], scale='utc', location=feder)\n",
    "    our_coords = SkyCoord(our_mags['RA'], our_mags['Dec'])\n",
    "    delta_t_tdb = t_utc.light_travel_time(our_coords)\n",
    "    t_tdb = t_utc.tdb + delta_t_tdb\n",
    "    t_tdb_mid = t_tdb + our_mags['exposure'] / 2\n",
    "    our_mags['t_start_tdb'][:] = t_tdb.jd\n",
    "    our_mags['t_mid_tdb'][:] = t_tdb_mid.jd"
   ]
  },
  {
   "cell_type": "code",
   "execution_count": null,
   "metadata": {},
   "outputs": [],
   "source": [
    "mags_grouped.sort('t_start_tdb')"
   ]
  },
  {
   "cell_type": "code",
   "execution_count": null,
   "metadata": {},
   "outputs": [],
   "source": [
    "if object_of_interest:\n",
    "    object_alone = mags_grouped[mags_grouped['star_id'] == object_of_interest_id]\n",
    "    "
   ]
  },
  {
   "cell_type": "markdown",
   "metadata": {},
   "source": [
    "## Identify known variables in the field "
   ]
  },
  {
   "cell_type": "markdown",
   "metadata": {},
   "source": [
    "### Do the matching..."
   ]
  },
  {
   "cell_type": "code",
   "execution_count": null,
   "metadata": {},
   "outputs": [],
   "source": [
    "mag_coords = SkyCoord(mags_grouped['RA'], mags_grouped['Dec'])\n",
    "vsx_coords = SkyCoord(vsx['RAJ2000'], vsx['DEJ2000'])\n",
    "vsx_idx, d2d, d3d = mag_coords.match_to_catalog_sky(vsx_coords)\n",
    "matches = d2d < 3 * u.arcsec"
   ]
  },
  {
   "cell_type": "markdown",
   "metadata": {},
   "source": [
    "### Add VSX name column to output table"
   ]
  },
  {
   "cell_type": "code",
   "execution_count": null,
   "metadata": {},
   "outputs": [],
   "source": [
    "vsx_names = np.array([''] * len(mags_grouped), dtype='S50')\n",
    "vsx_names[matches] = vsx['Name'][vsx_idx[matches]]\n",
    "mags_grouped['vsx_name'] = vsx_names"
   ]
  },
  {
   "cell_type": "markdown",
   "metadata": {},
   "source": [
    "## Write output to a file"
   ]
  },
  {
   "cell_type": "code",
   "execution_count": null,
   "metadata": {},
   "outputs": [],
   "source": [
    "mags_grouped.write(output_photometry_file)"
   ]
  },
  {
   "cell_type": "markdown",
   "metadata": {},
   "source": [
    "## Graph transform coefficients\n"
   ]
  },
  {
   "cell_type": "code",
   "execution_count": null,
   "metadata": {},
   "outputs": [],
   "source": [
    "regrouped = mags_grouped.group_by('file')\n",
    "agg_regrouped = regrouped.groups.aggregate(np.mean)"
   ]
  },
  {
   "cell_type": "code",
   "execution_count": null,
   "metadata": {},
   "outputs": [],
   "source": [
    "plt.figure(figsize=(15, 5))\n",
    "plt.plot(agg_regrouped['color_term'], '.')\n",
    "#plt.ylim(-0.05, 0.05)\n",
    "plt.grid()"
   ]
  },
  {
   "cell_type": "code",
   "execution_count": null,
   "metadata": {},
   "outputs": [],
   "source": [
    "plt.figure(figsize=(15, 5))\n",
    "plt.grid()\n",
    "plt.plot(agg_regrouped['t_mid_tdb'], agg_regrouped['zero_point'], '.')\n",
    "#plt.ylim(20, 21)"
   ]
  },
  {
   "cell_type": "markdown",
   "metadata": {},
   "source": [
    "## Graph of your object, *uncalibrated* magnitudes"
   ]
  },
  {
   "cell_type": "code",
   "execution_count": null,
   "metadata": {},
   "outputs": [],
   "source": [
    "if not object_of_interest:\n",
    "    raise ValueError('Remaining cells will work only if the object_of_interest is set to a non-empty string.')"
   ]
  },
  {
   "cell_type": "code",
   "execution_count": null,
   "metadata": {},
   "outputs": [],
   "source": [
    "plt.figure(figsize=(15, 5))\n",
    "plt.plot(object_alone['t_mid_tdb'], object_alone['mag_inst_r'], '.')\n",
    "plt.ylim(reversed(plt.ylim()))\n",
    "plt.title('REPLACE THIS TEXT WITH MEANINGFUL TITLE')\n",
    "plt.ylabel('instrumental magnitude, r filter')\n",
    "plt.xlabel('barycentric julian date')\n",
    "plt.grid()"
   ]
  },
  {
   "cell_type": "markdown",
   "metadata": {},
   "source": [
    "## Graph of your object, *calibrated* magnitudes"
   ]
  },
  {
   "cell_type": "code",
   "execution_count": null,
   "metadata": {},
   "outputs": [],
   "source": [
    "plt.figure(figsize=(15, 5))\n",
    "\n",
    "plt.plot(object_alone['t_mid_tdb'], object_alone['mag_cal'], '.')\n",
    "plt.ylim(reversed(plt.ylim()))\n",
    "plt.title('REPLACE THIS TEXT WITH MEANINGFUL TITLE')\n",
    "plt.ylabel('calibrated magnitude, r filter')\n",
    "plt.xlabel('barycentric julian date')\n",
    "plt.grid()"
   ]
  },
  {
   "cell_type": "code",
   "execution_count": null,
   "metadata": {},
   "outputs": [],
   "source": []
  }
 ],
 "metadata": {
  "kernelspec": {
   "display_name": "Python 3",
   "language": "python",
   "name": "python3"
  },
  "language_info": {
   "codemirror_mode": {
    "name": "ipython",
    "version": 3
   },
   "file_extension": ".py",
   "mimetype": "text/x-python",
   "name": "python",
   "nbconvert_exporter": "python",
   "pygments_lexer": "ipython3",
   "version": "3.6.4"
  }
 },
 "nbformat": 4,
 "nbformat_minor": 2
}
